{
 "cells": [
  {
   "cell_type": "code",
   "execution_count": 1,
   "id": "0811e167-d2e2-4344-971f-3c707da73cb4",
   "metadata": {},
   "outputs": [],
   "source": [
    "def get_dset_ready(path, batch_index, read_limit):\n",
    "    batch,v = get_map_ids_vocab(path, batch_index=batch_index)\n",
    "    pos_dset = get_dset(list(batch.values()),list(batch.keys()),v, read_limit)\n",
    "    return pos_dset, batch"
   ]
  },
  {
   "cell_type": "code",
   "execution_count": 2,
   "id": "57685c91-e5b4-4093-af23-86d061fe2671",
   "metadata": {},
   "outputs": [],
   "source": [
    "def plot_exp(path, kmer, limit, batch_index):\n",
    "    pos_dset = get_dset_ready(path, batch_index)\n",
    "    plot_dset(pos_dset, kmer, limit=limit, batch=batch)\n",
    "    "
   ]
  },
  {
   "cell_type": "code",
   "execution_count": 3,
   "id": "4728f018-3ca6-4175-bf3e-d2b173c4ca5f",
   "metadata": {},
   "outputs": [],
   "source": [
    "from taiyaki.mapped_signal_files import HDF5Reader\n",
    "def get_map_ids_vocab(hdf5_reader_path, batch_index):\n",
    "    reader = HDF5Reader(hdf5_reader_path)\n",
    "    nums = reader.get_alphabet_information().collapse_labels\n",
    "    letters = list(reader.get_alphabet_information().collapse_alphabet)\n",
    "    vocab_map = {x:y for (x,y) in zip(nums,letters)}\n",
    "    batch = reader._load_reads_batch(reader.batch_names[batch_index])\n",
    "    # signal_mappings = list(batch.values())\n",
    "    # read_ids = list(batch.keys())\n",
    "    return (batch, vocab_map)"
   ]
  },
  {
   "cell_type": "code",
   "execution_count": 4,
   "id": "a851b7cc-ccf8-4311-bb1d-bb1283f9295b",
   "metadata": {},
   "outputs": [],
   "source": [
    "import numpy as np\n",
    "def process_signal_mapping(mapping):\n",
    "    #Taken from RODAN code\n",
    "    signal = (mapping.Dacs + mapping.offset) * mapping.range / mapping.digitisation\n",
    "    med = np.median(signal)\n",
    "    mad = mapping.offset * np.median(abs(signal-med))\n",
    "    signal = (signal - mapping.shift_frompA) / mapping.scale_frompA\n",
    "    return signal\n",
    "    "
   ]
  },
  {
   "cell_type": "code",
   "execution_count": 5,
   "id": "6e607150-7f58-4dba-9d46-5c88fc7035bf",
   "metadata": {},
   "outputs": [],
   "source": [
    "\n",
    "\n",
    "#TODO get_current method of signal mapping normalizes data!!!!!!!!!!!!!!!!!!!!!!"
   ]
  },
  {
   "cell_type": "code",
   "execution_count": 6,
   "id": "5c12d28f-7c8f-473f-abd0-54b899ab2c16",
   "metadata": {},
   "outputs": [],
   "source": [
    "from matplotlib import pyplot as plt\n",
    "\n",
    "def update_dataset(dataset, mapping, readid, vocab_map):\n",
    "    signal = process_signal_mapping(mapping)\n",
    "    letter_reference = [vocab_map[num] for num in mapping.Reference]\n",
    "    ranges = [(mapping.Ref_to_signal[i], mapping.Ref_to_signal[i+1]) for i in range(len(mapping.Ref_to_signal)-1)]\n",
    "    # for i in range(len(letter_reference)-4):\n",
    "        # print(''.join(letter_reference[i:i+5]))\n",
    "    letter_to_ref = list(zip(letter_reference, ranges))\n",
    "    for i in range(len(letter_to_ref)-4):\n",
    "        #TODO filter too long/short bases\n",
    "        seq = ''\n",
    "        bases_lengths = []\n",
    "        for j in range(5):\n",
    "            letter, interval = letter_to_ref[i+j]\n",
    "            bases_lengths.append(interval[1] - interval[0])\n",
    "            if(j == 0):\n",
    "                start = interval[0]\n",
    "            if(j == 4):\n",
    "                end = interval[1]\n",
    "            seq+=letter\n",
    "        \n",
    "        #TODO batch number log?\n",
    "        # item = {'start':start, 'end':end, 'read_id':readid}\n",
    "        if(seq not in dataset.keys()):\n",
    "            dataset[seq] = [(start,end, readid)]\n",
    "        else:\n",
    "            dataset[seq].append((start,end, readid))\n",
    "        # plt.plot(signal[start:end])\n",
    "        # break\n",
    "        \n",
    "def get_dset(signal_mappings, read_ids, vocab_map, read_limit):\n",
    "    dset = {}\n",
    "    for i in range(read_limit):\n",
    "        update_dataset(dset, signal_mappings[i], read_ids[i], vocab_map)\n",
    "    return dset\n",
    "\n",
    "\n",
    "def plot_dset(dset, kmer, limit, batch):\n",
    "    targets = dset[kmer]\n",
    "    for start, stop, readid in targets[:limit]:\n",
    "        window = process_signal_mapping(batch[readid])[start: stop]\n",
    "        plt.plot(window)\n",
    "        plt.show()\n"
   ]
  },
  {
   "cell_type": "code",
   "execution_count": 7,
   "id": "65a446c7-7ef2-4118-984f-64909e3de9e9",
   "metadata": {},
   "outputs": [],
   "source": [
    "# mapping = random.choice(self.batch_mappings)\n",
    "\n",
    "# signal = self.process_signal_mapping(mapping)\n",
    "\n",
    "# #TODO add skip parameter instead of 0\n",
    "# last_start_index = len(signal)-self.window\n",
    "# #Using torch rand becasue of multiple workers\n",
    "# start = torch.randint(0, last_start_index+1, (1,))\n",
    "# end = start+self.window\n",
    "\n",
    "# window_positions = (start,end)\n",
    "# ref_beg, ref_end = np.searchsorted(mapping.Ref_to_signal, window_positions)\n",
    "# bases_count  = ref_end-ref_beg\n",
    "# window_ref = mapping.Reference[ref_beg:ref_end]\n",
    "\n",
    "# #TODO how rodan limits data? base_len > smth etc...\n",
    "# is_ok = (len(window_ref) == bases_count) and bases_count > 0\n",
    "# event = signal[start:end]\n",
    "# sequence = [self.vocab_map_reversed[index] for index in window_ref]"
   ]
  },
  {
   "cell_type": "code",
   "execution_count": 36,
   "id": "8acda66a-72c7-4491-9155-6da45364a885",
   "metadata": {},
   "outputs": [],
   "source": [
    "from tslearn.utils import to_time_series_dataset\n",
    "import numpy as np\n",
    "from itertools import repeat\n",
    "from scipy.signal import resample\n",
    "\n",
    "\n",
    "def get_tslearn_dset(path_pos, path_neg, batch_index, read_limit, kmer):\n",
    "    pos_dset, pos_batch = get_dset_ready(path_pos, batch_index, read_limit)\n",
    "    neg_dset, neg_batch = get_dset_ready(path_neg, batch_index, read_limit)\n",
    "    pos_data = [process_signal_mapping(pos_batch[r_id])[s:e] for s,e,r_id in pos_dset[kmer]]\n",
    "    neg_data = [process_signal_mapping(neg_batch[r_id])[s:e] for s,e,r_id in neg_dset[kmer]]\n",
    "\n",
    "    all_data = pos_data+neg_data\n",
    "    \n",
    "    resampling_len = 100\n",
    "    #throwing away length information with resampling!!!\n",
    "    all_data = [resample(sig, resampling_len) for sig in all_data]\n",
    "\n",
    "    X = to_time_series_dataset(all_data)\n",
    "    y = list(repeat(1,len(pos_data)))+list(repeat(0,len(neg_data)))\n",
    "    return X,y"
   ]
  },
  {
   "cell_type": "code",
   "execution_count": 107,
   "id": "6c12a98c-fd4c-4dbd-a737-7d5505aea735",
   "metadata": {},
   "outputs": [
    {
     "name": "stdout",
     "output_type": "stream",
     "text": [
      "train positives perc 0.48681241184767277 14180\n",
      "test positives perc 0.48945147679324896 1422\n"
     ]
    }
   ],
   "source": [
    "path_neg = '/home/jovyan/taiyaki_test/mapped_reads_2/m6A_0'\n",
    "path_pos = '/home/jovyan/taiyaki_test/mapped_reads_2/m6A_33'\n",
    "kmer = 'CGAGG'\n",
    "train_X, train_y = get_tslearn_dset(path_pos, path_neg, batch_index = 0, read_limit=10000, kmer=kmer)\n",
    "test_X, test_y = get_tslearn_dset(path_pos, path_neg, batch_index = 1, read_limit=1000, kmer=kmer)\n",
    "\n",
    "print('train positives perc', np.mean(train_y), len(train_y))\n",
    "print('test positives perc', np.mean(test_y), len(test_y))"
   ]
  },
  {
   "cell_type": "code",
   "execution_count": 110,
   "id": "59057eed-1ecf-42d9-a112-ad8b848927ea",
   "metadata": {},
   "outputs": [
    {
     "ename": "KeyboardInterrupt",
     "evalue": "",
     "output_type": "error",
     "traceback": [
      "\u001b[0;31m---------------------------------------------------------------------------\u001b[0m",
      "\u001b[0;31mKeyboardInterrupt\u001b[0m                         Traceback (most recent call last)",
      "Input \u001b[0;32mIn [110]\u001b[0m, in \u001b[0;36m<cell line: 11>\u001b[0;34m()\u001b[0m\n\u001b[1;32m      7\u001b[0m clf \u001b[38;5;241m=\u001b[39m TimeSeriesSVC(C\u001b[38;5;241m=\u001b[39m\u001b[38;5;241m1.0\u001b[39m, kernel\u001b[38;5;241m=\u001b[39m\u001b[38;5;124m\"\u001b[39m\u001b[38;5;124mgak\u001b[39m\u001b[38;5;124m\"\u001b[39m, max_iter\u001b[38;5;241m=\u001b[39m\u001b[38;5;241m25\u001b[39m, n_jobs\u001b[38;5;241m=\u001b[39m\u001b[38;5;241m8\u001b[39m, verbose\u001b[38;5;241m=\u001b[39m\u001b[38;5;241m0\u001b[39m)\n\u001b[1;32m      8\u001b[0m \u001b[38;5;66;03m# clf = LearningShapelets(n_shapelets_per_size={3: 1})\u001b[39;00m\n\u001b[0;32m---> 11\u001b[0m \u001b[43mclf\u001b[49m\u001b[38;5;241;43m.\u001b[39;49m\u001b[43mfit\u001b[49m\u001b[43m(\u001b[49m\u001b[43mtrain_X\u001b[49m\u001b[43m,\u001b[49m\u001b[43m \u001b[49m\u001b[43mtrain_y\u001b[49m\u001b[43m)\u001b[49m\n\u001b[1;32m     12\u001b[0m \u001b[38;5;28mprint\u001b[39m(balanced_accuracy_score(clf\u001b[38;5;241m.\u001b[39mpredict(train_X), train_y))\n\u001b[1;32m     13\u001b[0m \u001b[38;5;28mprint\u001b[39m(balanced_accuracy_score(clf\u001b[38;5;241m.\u001b[39mpredict(test_X),test_y))\n",
      "File \u001b[0;32m~/my-conda-envs/RNAmodEnvRod/lib/python3.8/site-packages/tslearn/svm/svm.py:276\u001b[0m, in \u001b[0;36mTimeSeriesSVC.fit\u001b[0;34m(self, X, y, sample_weight)\u001b[0m\n\u001b[1;32m    261\u001b[0m \u001b[38;5;28;01mdef\u001b[39;00m \u001b[38;5;21mfit\u001b[39m(\u001b[38;5;28mself\u001b[39m, X, y, sample_weight\u001b[38;5;241m=\u001b[39m\u001b[38;5;28;01mNone\u001b[39;00m):\n\u001b[1;32m    262\u001b[0m     \u001b[38;5;124;03m\"\"\"Fit the SVM model according to the given training data.\u001b[39;00m\n\u001b[1;32m    263\u001b[0m \n\u001b[1;32m    264\u001b[0m \u001b[38;5;124;03m    Parameters\u001b[39;00m\n\u001b[0;32m   (...)\u001b[0m\n\u001b[1;32m    274\u001b[0m \u001b[38;5;124;03m        classifier to put more emphasis on these points.\u001b[39;00m\n\u001b[1;32m    275\u001b[0m \u001b[38;5;124;03m    \"\"\"\u001b[39;00m\n\u001b[0;32m--> 276\u001b[0m     sklearn_X, y \u001b[38;5;241m=\u001b[39m \u001b[38;5;28;43mself\u001b[39;49m\u001b[38;5;241;43m.\u001b[39;49m\u001b[43m_preprocess_sklearn\u001b[49m\u001b[43m(\u001b[49m\u001b[43mX\u001b[49m\u001b[43m,\u001b[49m\u001b[43m \u001b[49m\u001b[43my\u001b[49m\u001b[43m,\u001b[49m\u001b[43m \u001b[49m\u001b[43mfit_time\u001b[49m\u001b[38;5;241;43m=\u001b[39;49m\u001b[38;5;28;43;01mTrue\u001b[39;49;00m\u001b[43m)\u001b[49m\n\u001b[1;32m    278\u001b[0m     \u001b[38;5;28mself\u001b[39m\u001b[38;5;241m.\u001b[39msvm_estimator_ \u001b[38;5;241m=\u001b[39m SVC(\n\u001b[1;32m    279\u001b[0m         C\u001b[38;5;241m=\u001b[39m\u001b[38;5;28mself\u001b[39m\u001b[38;5;241m.\u001b[39mC, kernel\u001b[38;5;241m=\u001b[39m\u001b[38;5;28mself\u001b[39m\u001b[38;5;241m.\u001b[39mestimator_kernel_, degree\u001b[38;5;241m=\u001b[39m\u001b[38;5;28mself\u001b[39m\u001b[38;5;241m.\u001b[39mdegree,\n\u001b[1;32m    280\u001b[0m         gamma\u001b[38;5;241m=\u001b[39m\u001b[38;5;28mself\u001b[39m\u001b[38;5;241m.\u001b[39mgamma_, coef0\u001b[38;5;241m=\u001b[39m\u001b[38;5;28mself\u001b[39m\u001b[38;5;241m.\u001b[39mcoef0, shrinking\u001b[38;5;241m=\u001b[39m\u001b[38;5;28mself\u001b[39m\u001b[38;5;241m.\u001b[39mshrinking,\n\u001b[0;32m   (...)\u001b[0m\n\u001b[1;32m    285\u001b[0m         random_state\u001b[38;5;241m=\u001b[39m\u001b[38;5;28mself\u001b[39m\u001b[38;5;241m.\u001b[39mrandom_state\n\u001b[1;32m    286\u001b[0m     )\n\u001b[1;32m    287\u001b[0m     \u001b[38;5;28mself\u001b[39m\u001b[38;5;241m.\u001b[39msvm_estimator_\u001b[38;5;241m.\u001b[39mfit(sklearn_X, y, sample_weight\u001b[38;5;241m=\u001b[39msample_weight)\n",
      "File \u001b[0;32m~/my-conda-envs/RNAmodEnvRod/lib/python3.8/site-packages/tslearn/svm/svm.py:48\u001b[0m, in \u001b[0;36mTimeSeriesSVMMixin._preprocess_sklearn\u001b[0;34m(self, X, y, fit_time)\u001b[0m\n\u001b[1;32m     46\u001b[0m \u001b[38;5;28mself\u001b[39m\u001b[38;5;241m.\u001b[39mestimator_kernel_ \u001b[38;5;241m=\u001b[39m \u001b[38;5;124m\"\u001b[39m\u001b[38;5;124mprecomputed\u001b[39m\u001b[38;5;124m\"\u001b[39m\n\u001b[1;32m     47\u001b[0m \u001b[38;5;28;01mif\u001b[39;00m fit_time:\n\u001b[0;32m---> 48\u001b[0m     sklearn_X \u001b[38;5;241m=\u001b[39m \u001b[43mcdist_gak\u001b[49m\u001b[43m(\u001b[49m\u001b[43mX\u001b[49m\u001b[43m,\u001b[49m\n\u001b[1;32m     49\u001b[0m \u001b[43m                          \u001b[49m\u001b[43msigma\u001b[49m\u001b[38;5;241;43m=\u001b[39;49m\u001b[43mnumpy\u001b[49m\u001b[38;5;241;43m.\u001b[39;49m\u001b[43msqrt\u001b[49m\u001b[43m(\u001b[49m\u001b[38;5;28;43mself\u001b[39;49m\u001b[38;5;241;43m.\u001b[39;49m\u001b[43mgamma_\u001b[49m\u001b[43m \u001b[49m\u001b[38;5;241;43m/\u001b[39;49m\u001b[43m \u001b[49m\u001b[38;5;241;43m2.\u001b[39;49m\u001b[43m)\u001b[49m\u001b[43m,\u001b[49m\n\u001b[1;32m     50\u001b[0m \u001b[43m                          \u001b[49m\u001b[43mn_jobs\u001b[49m\u001b[38;5;241;43m=\u001b[39;49m\u001b[38;5;28;43mself\u001b[39;49m\u001b[38;5;241;43m.\u001b[39;49m\u001b[43mn_jobs\u001b[49m\u001b[43m,\u001b[49m\u001b[43m \u001b[49m\n\u001b[1;32m     51\u001b[0m \u001b[43m                          \u001b[49m\u001b[43mverbose\u001b[49m\u001b[38;5;241;43m=\u001b[39;49m\u001b[38;5;28;43mself\u001b[39;49m\u001b[38;5;241;43m.\u001b[39;49m\u001b[43mverbose\u001b[49m\u001b[43m)\u001b[49m\n\u001b[1;32m     52\u001b[0m \u001b[38;5;28;01melse\u001b[39;00m:\n\u001b[1;32m     53\u001b[0m     sklearn_X \u001b[38;5;241m=\u001b[39m cdist_gak(X,\n\u001b[1;32m     54\u001b[0m                           \u001b[38;5;28mself\u001b[39m\u001b[38;5;241m.\u001b[39m_X_fit,\n\u001b[1;32m     55\u001b[0m                           sigma\u001b[38;5;241m=\u001b[39mnumpy\u001b[38;5;241m.\u001b[39msqrt(\u001b[38;5;28mself\u001b[39m\u001b[38;5;241m.\u001b[39mgamma_ \u001b[38;5;241m/\u001b[39m \u001b[38;5;241m2.\u001b[39m),\n\u001b[1;32m     56\u001b[0m                           n_jobs\u001b[38;5;241m=\u001b[39m\u001b[38;5;28mself\u001b[39m\u001b[38;5;241m.\u001b[39mn_jobs,\n\u001b[1;32m     57\u001b[0m                           verbose\u001b[38;5;241m=\u001b[39m\u001b[38;5;28mself\u001b[39m\u001b[38;5;241m.\u001b[39mverbose)\n",
      "File \u001b[0;32m~/my-conda-envs/RNAmodEnvRod/lib/python3.8/site-packages/tslearn/metrics/softdtw_variants.py:196\u001b[0m, in \u001b[0;36mcdist_gak\u001b[0;34m(dataset1, dataset2, sigma, n_jobs, verbose)\u001b[0m\n\u001b[1;32m    145\u001b[0m \u001b[38;5;28;01mdef\u001b[39;00m \u001b[38;5;21mcdist_gak\u001b[39m(dataset1, dataset2\u001b[38;5;241m=\u001b[39m\u001b[38;5;28;01mNone\u001b[39;00m, sigma\u001b[38;5;241m=\u001b[39m\u001b[38;5;241m1.0\u001b[39m, n_jobs\u001b[38;5;241m=\u001b[39m\u001b[38;5;28;01mNone\u001b[39;00m, verbose\u001b[38;5;241m=\u001b[39m\u001b[38;5;241m0\u001b[39m):\n\u001b[1;32m    146\u001b[0m     \u001b[38;5;124mr\u001b[39m\u001b[38;5;124;03m\"\"\"Compute cross-similarity matrix using Global Alignment kernel (GAK).\u001b[39;00m\n\u001b[1;32m    147\u001b[0m \n\u001b[1;32m    148\u001b[0m \u001b[38;5;124;03m    GAK was originally presented in [1]_.\u001b[39;00m\n\u001b[0;32m   (...)\u001b[0m\n\u001b[1;32m    194\u001b[0m \u001b[38;5;124;03m    .. [1] M. Cuturi, \"Fast global alignment kernels,\" ICML 2011.\u001b[39;00m\n\u001b[1;32m    195\u001b[0m \u001b[38;5;124;03m    \"\"\"\u001b[39;00m  \u001b[38;5;66;03m# noqa: E501\u001b[39;00m\n\u001b[0;32m--> 196\u001b[0m     unnormalized_matrix \u001b[38;5;241m=\u001b[39m \u001b[43m_cdist_generic\u001b[49m\u001b[43m(\u001b[49m\n\u001b[1;32m    197\u001b[0m \u001b[43m        \u001b[49m\u001b[43mdist_fun\u001b[49m\u001b[38;5;241;43m=\u001b[39;49m\u001b[43munnormalized_gak\u001b[49m\u001b[43m,\u001b[49m\n\u001b[1;32m    198\u001b[0m \u001b[43m        \u001b[49m\u001b[43mdataset1\u001b[49m\u001b[38;5;241;43m=\u001b[39;49m\u001b[43mdataset1\u001b[49m\u001b[43m,\u001b[49m\n\u001b[1;32m    199\u001b[0m \u001b[43m        \u001b[49m\u001b[43mdataset2\u001b[49m\u001b[38;5;241;43m=\u001b[39;49m\u001b[43mdataset2\u001b[49m\u001b[43m,\u001b[49m\n\u001b[1;32m    200\u001b[0m \u001b[43m        \u001b[49m\u001b[43mn_jobs\u001b[49m\u001b[38;5;241;43m=\u001b[39;49m\u001b[43mn_jobs\u001b[49m\u001b[43m,\u001b[49m\n\u001b[1;32m    201\u001b[0m \u001b[43m        \u001b[49m\u001b[43mverbose\u001b[49m\u001b[38;5;241;43m=\u001b[39;49m\u001b[43mverbose\u001b[49m\u001b[43m,\u001b[49m\n\u001b[1;32m    202\u001b[0m \u001b[43m        \u001b[49m\u001b[43msigma\u001b[49m\u001b[38;5;241;43m=\u001b[39;49m\u001b[43msigma\u001b[49m\u001b[43m,\u001b[49m\n\u001b[1;32m    203\u001b[0m \u001b[43m        \u001b[49m\u001b[43mcompute_diagonal\u001b[49m\u001b[38;5;241;43m=\u001b[39;49m\u001b[38;5;28;43;01mTrue\u001b[39;49;00m\u001b[43m,\u001b[49m\n\u001b[1;32m    204\u001b[0m \u001b[43m    \u001b[49m\u001b[43m)\u001b[49m\n\u001b[1;32m    205\u001b[0m     dataset1 \u001b[38;5;241m=\u001b[39m to_time_series_dataset(dataset1)\n\u001b[1;32m    206\u001b[0m     \u001b[38;5;28;01mif\u001b[39;00m dataset2 \u001b[38;5;129;01mis\u001b[39;00m \u001b[38;5;28;01mNone\u001b[39;00m:\n",
      "File \u001b[0;32m~/my-conda-envs/RNAmodEnvRod/lib/python3.8/site-packages/tslearn/metrics/utils.py:62\u001b[0m, in \u001b[0;36m_cdist_generic\u001b[0;34m(dist_fun, dataset1, dataset2, n_jobs, verbose, compute_diagonal, dtype, *args, **kwargs)\u001b[0m\n\u001b[1;32m     58\u001b[0m matrix \u001b[38;5;241m=\u001b[39m numpy\u001b[38;5;241m.\u001b[39mzeros((\u001b[38;5;28mlen\u001b[39m(dataset1), \u001b[38;5;28mlen\u001b[39m(dataset1)))\n\u001b[1;32m     59\u001b[0m indices \u001b[38;5;241m=\u001b[39m numpy\u001b[38;5;241m.\u001b[39mtriu_indices(\u001b[38;5;28mlen\u001b[39m(dataset1),\n\u001b[1;32m     60\u001b[0m                              k\u001b[38;5;241m=\u001b[39m\u001b[38;5;241m0\u001b[39m \u001b[38;5;28;01mif\u001b[39;00m compute_diagonal \u001b[38;5;28;01melse\u001b[39;00m \u001b[38;5;241m1\u001b[39m,\n\u001b[1;32m     61\u001b[0m                              m\u001b[38;5;241m=\u001b[39m\u001b[38;5;28mlen\u001b[39m(dataset1))\n\u001b[0;32m---> 62\u001b[0m matrix[indices] \u001b[38;5;241m=\u001b[39m \u001b[43mParallel\u001b[49m\u001b[43m(\u001b[49m\u001b[43mn_jobs\u001b[49m\u001b[38;5;241;43m=\u001b[39;49m\u001b[43mn_jobs\u001b[49m\u001b[43m,\u001b[49m\n\u001b[1;32m     63\u001b[0m \u001b[43m                           \u001b[49m\u001b[43mprefer\u001b[49m\u001b[38;5;241;43m=\u001b[39;49m\u001b[38;5;124;43m\"\u001b[39;49m\u001b[38;5;124;43mthreads\u001b[39;49m\u001b[38;5;124;43m\"\u001b[39;49m\u001b[43m,\u001b[49m\n\u001b[1;32m     64\u001b[0m \u001b[43m                           \u001b[49m\u001b[43mverbose\u001b[49m\u001b[38;5;241;43m=\u001b[39;49m\u001b[43mverbose\u001b[49m\u001b[43m)\u001b[49m\u001b[43m(\u001b[49m\n\u001b[1;32m     65\u001b[0m \u001b[43m    \u001b[49m\u001b[43mdelayed\u001b[49m\u001b[43m(\u001b[49m\u001b[43mdist_fun\u001b[49m\u001b[43m)\u001b[49m\u001b[43m(\u001b[49m\n\u001b[1;32m     66\u001b[0m \u001b[43m        \u001b[49m\u001b[43mdataset1\u001b[49m\u001b[43m[\u001b[49m\u001b[43mi\u001b[49m\u001b[43m]\u001b[49m\u001b[43m,\u001b[49m\u001b[43m \u001b[49m\u001b[43mdataset1\u001b[49m\u001b[43m[\u001b[49m\u001b[43mj\u001b[49m\u001b[43m]\u001b[49m\u001b[43m,\u001b[49m\n\u001b[1;32m     67\u001b[0m \u001b[43m        \u001b[49m\u001b[38;5;241;43m*\u001b[39;49m\u001b[43margs\u001b[49m\u001b[43m,\u001b[49m\u001b[43m \u001b[49m\u001b[38;5;241;43m*\u001b[39;49m\u001b[38;5;241;43m*\u001b[39;49m\u001b[43mkwargs\u001b[49m\n\u001b[1;32m     68\u001b[0m \u001b[43m    \u001b[49m\u001b[43m)\u001b[49m\n\u001b[1;32m     69\u001b[0m \u001b[43m    \u001b[49m\u001b[38;5;28;43;01mfor\u001b[39;49;00m\u001b[43m \u001b[49m\u001b[43mi\u001b[49m\u001b[43m \u001b[49m\u001b[38;5;129;43;01min\u001b[39;49;00m\u001b[43m \u001b[49m\u001b[38;5;28;43mrange\u001b[39;49m\u001b[43m(\u001b[49m\u001b[38;5;28;43mlen\u001b[39;49m\u001b[43m(\u001b[49m\u001b[43mdataset1\u001b[49m\u001b[43m)\u001b[49m\u001b[43m)\u001b[49m\n\u001b[1;32m     70\u001b[0m \u001b[43m    \u001b[49m\u001b[38;5;28;43;01mfor\u001b[39;49;00m\u001b[43m \u001b[49m\u001b[43mj\u001b[49m\u001b[43m \u001b[49m\u001b[38;5;129;43;01min\u001b[39;49;00m\u001b[43m \u001b[49m\u001b[38;5;28;43mrange\u001b[39;49m\u001b[43m(\u001b[49m\u001b[43mi\u001b[49m\u001b[43m \u001b[49m\u001b[38;5;28;43;01mif\u001b[39;49;00m\u001b[43m \u001b[49m\u001b[43mcompute_diagonal\u001b[49m\u001b[43m \u001b[49m\u001b[38;5;28;43;01melse\u001b[39;49;00m\u001b[43m \u001b[49m\u001b[43mi\u001b[49m\u001b[43m \u001b[49m\u001b[38;5;241;43m+\u001b[39;49m\u001b[43m \u001b[49m\u001b[38;5;241;43m1\u001b[39;49m\u001b[43m,\u001b[49m\n\u001b[1;32m     71\u001b[0m \u001b[43m                   \u001b[49m\u001b[38;5;28;43mlen\u001b[39;49m\u001b[43m(\u001b[49m\u001b[43mdataset1\u001b[49m\u001b[43m)\u001b[49m\u001b[43m)\u001b[49m\n\u001b[1;32m     72\u001b[0m \u001b[43m\u001b[49m\u001b[43m)\u001b[49m\n\u001b[1;32m     73\u001b[0m indices \u001b[38;5;241m=\u001b[39m numpy\u001b[38;5;241m.\u001b[39mtril_indices(\u001b[38;5;28mlen\u001b[39m(dataset1), k\u001b[38;5;241m=\u001b[39m\u001b[38;5;241m-\u001b[39m\u001b[38;5;241m1\u001b[39m, m\u001b[38;5;241m=\u001b[39m\u001b[38;5;28mlen\u001b[39m(dataset1))\n\u001b[1;32m     74\u001b[0m matrix[indices] \u001b[38;5;241m=\u001b[39m matrix\u001b[38;5;241m.\u001b[39mT[indices]\n",
      "File \u001b[0;32m~/my-conda-envs/RNAmodEnvRod/lib/python3.8/site-packages/joblib/parallel.py:1056\u001b[0m, in \u001b[0;36mParallel.__call__\u001b[0;34m(self, iterable)\u001b[0m\n\u001b[1;32m   1053\u001b[0m     \u001b[38;5;28mself\u001b[39m\u001b[38;5;241m.\u001b[39m_iterating \u001b[38;5;241m=\u001b[39m \u001b[38;5;28;01mFalse\u001b[39;00m\n\u001b[1;32m   1055\u001b[0m \u001b[38;5;28;01mwith\u001b[39;00m \u001b[38;5;28mself\u001b[39m\u001b[38;5;241m.\u001b[39m_backend\u001b[38;5;241m.\u001b[39mretrieval_context():\n\u001b[0;32m-> 1056\u001b[0m     \u001b[38;5;28;43mself\u001b[39;49m\u001b[38;5;241;43m.\u001b[39;49m\u001b[43mretrieve\u001b[49m\u001b[43m(\u001b[49m\u001b[43m)\u001b[49m\n\u001b[1;32m   1057\u001b[0m \u001b[38;5;66;03m# Make sure that we get a last message telling us we are done\u001b[39;00m\n\u001b[1;32m   1058\u001b[0m elapsed_time \u001b[38;5;241m=\u001b[39m time\u001b[38;5;241m.\u001b[39mtime() \u001b[38;5;241m-\u001b[39m \u001b[38;5;28mself\u001b[39m\u001b[38;5;241m.\u001b[39m_start_time\n",
      "File \u001b[0;32m~/my-conda-envs/RNAmodEnvRod/lib/python3.8/site-packages/joblib/parallel.py:935\u001b[0m, in \u001b[0;36mParallel.retrieve\u001b[0;34m(self)\u001b[0m\n\u001b[1;32m    933\u001b[0m \u001b[38;5;28;01mtry\u001b[39;00m:\n\u001b[1;32m    934\u001b[0m     \u001b[38;5;28;01mif\u001b[39;00m \u001b[38;5;28mgetattr\u001b[39m(\u001b[38;5;28mself\u001b[39m\u001b[38;5;241m.\u001b[39m_backend, \u001b[38;5;124m'\u001b[39m\u001b[38;5;124msupports_timeout\u001b[39m\u001b[38;5;124m'\u001b[39m, \u001b[38;5;28;01mFalse\u001b[39;00m):\n\u001b[0;32m--> 935\u001b[0m         \u001b[38;5;28mself\u001b[39m\u001b[38;5;241m.\u001b[39m_output\u001b[38;5;241m.\u001b[39mextend(\u001b[43mjob\u001b[49m\u001b[38;5;241;43m.\u001b[39;49m\u001b[43mget\u001b[49m\u001b[43m(\u001b[49m\u001b[43mtimeout\u001b[49m\u001b[38;5;241;43m=\u001b[39;49m\u001b[38;5;28;43mself\u001b[39;49m\u001b[38;5;241;43m.\u001b[39;49m\u001b[43mtimeout\u001b[49m\u001b[43m)\u001b[49m)\n\u001b[1;32m    936\u001b[0m     \u001b[38;5;28;01melse\u001b[39;00m:\n\u001b[1;32m    937\u001b[0m         \u001b[38;5;28mself\u001b[39m\u001b[38;5;241m.\u001b[39m_output\u001b[38;5;241m.\u001b[39mextend(job\u001b[38;5;241m.\u001b[39mget())\n",
      "File \u001b[0;32m~/my-conda-envs/RNAmodEnvRod/lib/python3.8/multiprocessing/pool.py:765\u001b[0m, in \u001b[0;36mApplyResult.get\u001b[0;34m(self, timeout)\u001b[0m\n\u001b[1;32m    764\u001b[0m \u001b[38;5;28;01mdef\u001b[39;00m \u001b[38;5;21mget\u001b[39m(\u001b[38;5;28mself\u001b[39m, timeout\u001b[38;5;241m=\u001b[39m\u001b[38;5;28;01mNone\u001b[39;00m):\n\u001b[0;32m--> 765\u001b[0m     \u001b[38;5;28;43mself\u001b[39;49m\u001b[38;5;241;43m.\u001b[39;49m\u001b[43mwait\u001b[49m\u001b[43m(\u001b[49m\u001b[43mtimeout\u001b[49m\u001b[43m)\u001b[49m\n\u001b[1;32m    766\u001b[0m     \u001b[38;5;28;01mif\u001b[39;00m \u001b[38;5;129;01mnot\u001b[39;00m \u001b[38;5;28mself\u001b[39m\u001b[38;5;241m.\u001b[39mready():\n\u001b[1;32m    767\u001b[0m         \u001b[38;5;28;01mraise\u001b[39;00m \u001b[38;5;167;01mTimeoutError\u001b[39;00m\n",
      "File \u001b[0;32m~/my-conda-envs/RNAmodEnvRod/lib/python3.8/multiprocessing/pool.py:762\u001b[0m, in \u001b[0;36mApplyResult.wait\u001b[0;34m(self, timeout)\u001b[0m\n\u001b[1;32m    761\u001b[0m \u001b[38;5;28;01mdef\u001b[39;00m \u001b[38;5;21mwait\u001b[39m(\u001b[38;5;28mself\u001b[39m, timeout\u001b[38;5;241m=\u001b[39m\u001b[38;5;28;01mNone\u001b[39;00m):\n\u001b[0;32m--> 762\u001b[0m     \u001b[38;5;28;43mself\u001b[39;49m\u001b[38;5;241;43m.\u001b[39;49m\u001b[43m_event\u001b[49m\u001b[38;5;241;43m.\u001b[39;49m\u001b[43mwait\u001b[49m\u001b[43m(\u001b[49m\u001b[43mtimeout\u001b[49m\u001b[43m)\u001b[49m\n",
      "File \u001b[0;32m~/my-conda-envs/RNAmodEnvRod/lib/python3.8/threading.py:558\u001b[0m, in \u001b[0;36mEvent.wait\u001b[0;34m(self, timeout)\u001b[0m\n\u001b[1;32m    556\u001b[0m signaled \u001b[38;5;241m=\u001b[39m \u001b[38;5;28mself\u001b[39m\u001b[38;5;241m.\u001b[39m_flag\n\u001b[1;32m    557\u001b[0m \u001b[38;5;28;01mif\u001b[39;00m \u001b[38;5;129;01mnot\u001b[39;00m signaled:\n\u001b[0;32m--> 558\u001b[0m     signaled \u001b[38;5;241m=\u001b[39m \u001b[38;5;28;43mself\u001b[39;49m\u001b[38;5;241;43m.\u001b[39;49m\u001b[43m_cond\u001b[49m\u001b[38;5;241;43m.\u001b[39;49m\u001b[43mwait\u001b[49m\u001b[43m(\u001b[49m\u001b[43mtimeout\u001b[49m\u001b[43m)\u001b[49m\n\u001b[1;32m    559\u001b[0m \u001b[38;5;28;01mreturn\u001b[39;00m signaled\n",
      "File \u001b[0;32m~/my-conda-envs/RNAmodEnvRod/lib/python3.8/threading.py:302\u001b[0m, in \u001b[0;36mCondition.wait\u001b[0;34m(self, timeout)\u001b[0m\n\u001b[1;32m    300\u001b[0m \u001b[38;5;28;01mtry\u001b[39;00m:    \u001b[38;5;66;03m# restore state no matter what (e.g., KeyboardInterrupt)\u001b[39;00m\n\u001b[1;32m    301\u001b[0m     \u001b[38;5;28;01mif\u001b[39;00m timeout \u001b[38;5;129;01mis\u001b[39;00m \u001b[38;5;28;01mNone\u001b[39;00m:\n\u001b[0;32m--> 302\u001b[0m         \u001b[43mwaiter\u001b[49m\u001b[38;5;241;43m.\u001b[39;49m\u001b[43macquire\u001b[49m\u001b[43m(\u001b[49m\u001b[43m)\u001b[49m\n\u001b[1;32m    303\u001b[0m         gotit \u001b[38;5;241m=\u001b[39m \u001b[38;5;28;01mTrue\u001b[39;00m\n\u001b[1;32m    304\u001b[0m     \u001b[38;5;28;01melse\u001b[39;00m:\n",
      "\u001b[0;31mKeyboardInterrupt\u001b[0m: "
     ]
    }
   ],
   "source": [
    "from tslearn.neighbors import KNeighborsTimeSeriesClassifier\n",
    "from tslearn.svm import TimeSeriesSVC\n",
    "from tslearn.shapelets import LearningShapelets\n",
    "from sklearn.metrics import balanced_accuracy_score\n",
    "\n",
    "# clf = KNeighborsTimeSeriesClassifier(n_neighbors=2, verbose=1)\n",
    "clf = TimeSeriesSVC(C=1.0, kernel=\"gak\", max_iter=25, n_jobs=8, verbose=0)\n",
    "# clf = LearningShapelets(n_shapelets_per_size={3: 1})\n",
    "\n",
    "\n",
    "clf.fit(train_X, train_y)\n",
    "print(balanced_accuracy_score(clf.predict(train_X), train_y))\n",
    "print(balanced_accuracy_score(clf.predict(test_X),test_y))"
   ]
  },
  {
   "cell_type": "code",
   "execution_count": 79,
   "id": "5936d7f1-2f1d-4198-b258-5de157bb4b5f",
   "metadata": {},
   "outputs": [],
   "source": [
    "def get_sklearn_dset(path_pos, path_neg, batch_index, read_limit, kmer):\n",
    "    pos_dset, pos_batch = get_dset_ready(path_pos, batch_index, read_limit)\n",
    "    neg_dset, neg_batch = get_dset_ready(path_neg, batch_index, read_limit)\n",
    "    pos_data = [process_signal_mapping(pos_batch[r_id])[s:e] for s,e,r_id in pos_dset[kmer]]\n",
    "    neg_data = [process_signal_mapping(neg_batch[r_id])[s:e] for s,e,r_id in neg_dset[kmer]]\n",
    "\n",
    "    all_data = pos_data+neg_data\n",
    "    \n",
    "    all_data = [[np.mean(signal), np.std(signal), len(signal)] for signal in all_data]    \n",
    "    X = all_data\n",
    "    y = list(repeat(1,len(pos_data)))+list(repeat(0,len(neg_data)))\n",
    "    return X,y"
   ]
  },
  {
   "cell_type": "code",
   "execution_count": 94,
   "id": "97ce9f7e-889b-402d-bd50-bd2117f8824c",
   "metadata": {},
   "outputs": [
    {
     "name": "stdout",
     "output_type": "stream",
     "text": [
      "14180\n",
      "423\n"
     ]
    }
   ],
   "source": [
    "X_train, y_train = get_sklearn_dset(path_pos, path_neg, 0, 10000, 'CGAGG')\n",
    "print(len(y_train))\n",
    "X_test, y_test = get_sklearn_dset(path_pos, path_neg, 1, 300, 'CGAGG')\n",
    "print(len(y_test))"
   ]
  },
  {
   "cell_type": "code",
   "execution_count": 106,
   "id": "fbb83ac1-9b43-4125-ae2d-7d5f66a11025",
   "metadata": {},
   "outputs": [
    {
     "name": "stdout",
     "output_type": "stream",
     "text": [
      "Iteration 1, loss = 2.71200737\n",
      "Iteration 2, loss = 0.69811132\n",
      "Iteration 3, loss = 0.70287585\n",
      "Iteration 4, loss = 0.70565043\n",
      "Iteration 5, loss = 0.70100204\n",
      "Iteration 6, loss = 0.70650798\n",
      "Iteration 7, loss = 0.71382450\n",
      "Iteration 8, loss = 0.72069395\n",
      "Iteration 9, loss = 0.70097520\n",
      "Iteration 10, loss = 0.70862693\n",
      "Iteration 11, loss = 0.70184509\n",
      "Iteration 12, loss = 0.69979238\n",
      "Iteration 13, loss = 0.70356906\n",
      "Training loss did not improve more than tol=0.000100 for 10 consecutive epochs. Stopping.\n",
      "0.5115289287047405\n",
      "0.43966349635494617\n"
     ]
    }
   ],
   "source": [
    "from sklearn.tree import DecisionTreeClassifier\n",
    "from sklearn.ensemble import RandomForestClassifier\n",
    "from sklearn.neural_network import MLPClassifier\n",
    "# clf = DecisionTreeClassifier(max_leaf_nodes=None, max_depth=None)\n",
    "# clf = RandomForestClassifier(max_depth=15)\n",
    "clf = MLPClassifier(solver='adam', hidden_layer_sizes=(50, 10), max_iter=1000, verbose=1)\n",
    "clf.fit(X_train, y_train)\n",
    "# print(clf.get_depth())\n",
    "# print(clf.get_n_leaves(),'\\n')\n",
    "print(balanced_accuracy_score(clf.predict(X_train),y_train))\n",
    "print(balanced_accuracy_score(clf.predict(X_test),y_test))"
   ]
  },
  {
   "cell_type": "code",
   "execution_count": 24,
   "id": "9b853552-e7da-4ba6-8602-66649c31f1f8",
   "metadata": {},
   "outputs": [
    {
     "name": "stdout",
     "output_type": "stream",
     "text": [
      "['Batch_0', 'Batch_1']\n",
      "processing Batch_0\n",
      "dset size 22999\n",
      "['Batch_0', 'Batch_1', 'Batch_2']\n",
      "processing Batch_0\n",
      "dset size 17761\n"
     ]
    }
   ],
   "source": [
    "from rnamodif.data_utils.kmer_dataloader import MyKmerMixedDataset\n",
    "# pos_path_nia = '/home/jovyan/taiyaki_test/mapped_reads_2/m6A_33'\n",
    "# neg_path_nia = '/home/jovyan/taiyaki_test/mapped_reads_2/m6A_0'\n",
    "pos_path = '/home/jovyan/taiyaki_test/mapped_reads_2/RNAAB090763_m6A'\n",
    "neg_path = '/home/jovyan/taiyaki_test/mapped_reads_2/RNAAB089716_m6A_UNM'\n",
    "\n",
    "train_dset = MyKmerMixedDataset(pos_path, neg_path, 'TGACG', max_kmer_len=70*5, batch_limit=[0], dont_pad=True)\n",
    "# valid_dset = MyKmerMixedDataset(pos_path_nia, neg_path_nia, 'TGACG', max_kmer_len=70*5, batch_limit=[1], total_limit=1000)"
   ]
  },
  {
   "cell_type": "code",
   "execution_count": 33,
   "id": "ac0973fe-416f-4f0b-9ab7-d8673b73ca8a",
   "metadata": {},
   "outputs": [
    {
     "data": {
      "image/png": "[encoded data removed]",
      "text/plain": [
       "<Figure size 1440x360 with 12 Axes>"
      ]
     },
     "metadata": {
      "needs_background": "light"
     },
     "output_type": "display_data"
    }
   ],
   "source": [
    "from matplotlib import pyplot as plt\n",
    "samples = 6\n",
    "dsets = [train_dset.pos_dset, train_dset.neg_dset]#, valid_dset.pos_dset,  valid_dset.neg_dset]\n",
    "fig, axs = plt.subplots(len(dsets),samples, sharey=True, sharex=True, figsize=(20,5))\n",
    "for i in range(samples):\n",
    "    for j,d in enumerate(dsets):\n",
    "        axs[j][i].plot(next(d)[0])\n",
    "\n"
   ]
  },
  {
   "cell_type": "code",
   "execution_count": 27,
   "id": "9ede3ff7-aecb-493c-9d9a-9814055af17a",
   "metadata": {},
   "outputs": [],
   "source": [
    "from tslearn.neighbors import KNeighborsTimeSeriesClassifier\n",
    "from tslearn.clustering import TimeSeriesKMeans\n",
    "from sklearn.metrics import accuracy_score\n",
    "from tslearn.utils import to_time_series_dataset\n",
    "from tslearn.clustering import KernelKMeans\n",
    "import numpy as np\n",
    "#TODO try without padding\n",
    "dsets = [train_dset.pos_dset, train_dset.neg_dset]#, valid_dset.pos_dset,  valid_dset.neg_dset]\n",
    "X = []\n",
    "y = []\n",
    "for dset in dsets:\n",
    "    for _ in range(10000):\n",
    "        sig, lab = next(dset)\n",
    "        X.append(sig)\n",
    "        y.append(lab)\n",
    "num_of_cl = 2\n",
    "X = to_time_series_dataset(X)\n"
   ]
  },
  {
   "cell_type": "code",
   "execution_count": 32,
   "id": "b3db6567-6053-46c2-9728-94943b2e4ee1",
   "metadata": {},
   "outputs": [
    {
     "name": "stdout",
     "output_type": "stream",
     "text": [
      "Cluster 0: 20000 data points\n",
      " - 0.5 ratio of negatives\n",
      " - 10000 data points with class label 0\n",
      " - 10000 data points with class label 1\n",
      "Cluster 1: 0 data points\n"
     ]
    }
   ],
   "source": [
    "clf = TimeSeriesKMeans(n_clusters=num_of_cl, max_iter=30, metric='euclidean', verbose=0, n_jobs=10)\n",
    "# clf = KernelKMeans(n_clusters=num_of_cl, max_iter=5)\n",
    "clf.fit(X)\n",
    "# accuracy_score(y,clf.predict(X))\n",
    "labels = clf.predict(X)\n",
    "y = np.array(y)\n",
    "\n",
    "for cluster in range(num_of_cl):\n",
    "    cluster_indices = np.where(labels == cluster)[0]\n",
    "    cluster_labels = y[cluster_indices]\n",
    "    unique_labels, counts = np.unique(cluster_labels, return_counts=True)\n",
    "    print(f\"Cluster {cluster}: {len(cluster_indices)} data points\")\n",
    "    if(len(counts) > 0):\n",
    "        print(' -',round(counts[0]/sum(counts),2), 'ratio of negatives')\n",
    "    for label, count in zip(unique_labels, counts):\n",
    "        print(f\" - {count} data points with class label {int(label)}\")"
   ]
  }
 ],
 "metadata": {
  "kernelspec": {
   "display_name": "Python [conda env:RNAmodEnvRod]",
   "language": "python",
   "name": "conda-env-RNAmodEnvRod-py"
  },
  "language_info": {
   "codemirror_mode": {
    "name": "ipython",
    "version": 3
   },
   "file_extension": ".py",
   "mimetype": "text/x-python",
   "name": "python",
   "nbconvert_exporter": "python",
   "pygments_lexer": "ipython3",
   "version": "3.8.13"
  }
 },
 "nbformat": 4,
 "nbformat_minor": 5
}
