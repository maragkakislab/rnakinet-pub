{
 "cells": [
  {
   "cell_type": "markdown",
   "id": "66b93f8c-fcdc-4910-b3ad-1dd3b451b691",
   "metadata": {},
   "source": [
    "# Files list preparation"
   ]
  },
  {
   "cell_type": "code",
   "execution_count": 1,
   "id": "276850e6-6a46-4dcd-8785-9f2e85283550",
   "metadata": {},
   "outputs": [
    {
     "name": "stdout",
     "output_type": "stream",
     "text": [
      "5eu pos files (single read files) 73607\n",
      "5eu neg files (single read files) 176093\n"
     ]
    }
   ],
   "source": [
    "import pickle\n",
    "\n",
    "path = '/home/jovyan/RNAModif/rnamodif/util_notebooks/2022_chr_split.pickle'\n",
    "with open(path, 'rb') as handle:\n",
    "    split_dict = pickle.load(handle)\n",
    "\n",
    "pos_files_5eu = split_dict['5eu_2022_nia_chr1']\n",
    "neg_files_5eu = split_dict['UNM_2022_nia_chr1']\n",
    "\n",
    "print('5eu pos files (single read files)', len(pos_files_5eu))    \n",
    "print('5eu neg files (single read files)', len(neg_files_5eu))    \n",
    "\n",
    "# '5eu_nanoid_24h':'pos',\n",
    "# '5eu_nanoid_neg':'neg',"
   ]
  },
  {
   "cell_type": "code",
   "execution_count": 2,
   "id": "a7f2593a-d789-4fc1-b302-77165792e1cd",
   "metadata": {},
   "outputs": [
    {
     "name": "stdout",
     "output_type": "stream",
     "text": [
      "nanoid pos files (single read??? files) 177088\n",
      "nanoid neg files (single read??? files) 216906\n"
     ]
    }
   ],
   "source": [
    "from pathlib import Path\n",
    "fiveEU_nanoid_path = Path('/home/jovyan/local_store/nanoid/20180514_1054_K562_5EU_1440_labeled_run')\n",
    "pos_files_nanoid_24h = list(fiveEU_nanoid_path.rglob('*.fast5'))\n",
    "\n",
    "fiveEU_nanoid_path_neg = Path('/home/jovyan/local_store/nanoid/20180403_1208_K562_5EU_0_unlabeled_III_run')\n",
    "neg_files_nanoid = list(fiveEU_nanoid_path_neg.rglob('*.fast5'))\n",
    "\n",
    "print('nanoid pos files (single read??? files)', len(pos_files_nanoid_24h))\n",
    "print('nanoid neg files (single read??? files)', len(neg_files_nanoid))"
   ]
  },
  {
   "cell_type": "code",
   "execution_count": 3,
   "id": "95748e4e-dd0c-4971-b5d6-fc219d462e81",
   "metadata": {},
   "outputs": [],
   "source": [
    "NIA_POS = 'NIA_POS'\n",
    "NIA_NEG = 'NIA_NEG'\n",
    "NANOID_POS = 'NANOID_POS'\n",
    "NANOID_NEG = 'NANOID_NEG'\n",
    "\n",
    "exp_map = {\n",
    "    NIA_POS:pos_files_5eu,\n",
    "    NIA_NEG:neg_files_5eu,\n",
    "    NANOID_POS:pos_files_nanoid_24h,\n",
    "    NANOID_NEG:neg_files_nanoid,\n",
    "}\n",
    "exp_label = {\n",
    "    NIA_POS:1,\n",
    "    NIA_NEG:0,\n",
    "    NANOID_POS:1,\n",
    "    NANOID_NEG:0\n",
    "}\n"
   ]
  },
  {
   "cell_type": "markdown",
   "id": "2e4c008c-5f1c-42b2-b104-a611ac1c2a84",
   "metadata": {},
   "source": [
    "# Data module"
   ]
  },
  {
   "cell_type": "code",
   "execution_count": 4,
   "id": "1026d612-0344-40ff-9f90-73e526de94d5",
   "metadata": {},
   "outputs": [],
   "source": [
    "from torch.utils.data import IterableDataset\n",
    "from rnamodif.data_utils.read_utils import process_read\n",
    "from ont_fast5_api.fast5_interface import get_fast5_file\n",
    "\n",
    "class ExhaustiveDataset(IterableDataset):\n",
    "        def __init__(self, files, window, stride):\n",
    "            self.files = files\n",
    "            self.window = window\n",
    "            self.stride = stride\n",
    "            \n",
    "        def process_files_fully(self, files, window):\n",
    "            for fast5 in files: \n",
    "                try:\n",
    "                    with get_fast5_file(fast5, mode='r') as f5:\n",
    "                        for i, read in enumerate(f5.get_reads()):\n",
    "                            x = process_read(read, window=None) \n",
    "                            #TODO trim start of the read?\n",
    "                            for start in range(0, len(x), self.stride):\n",
    "                                stop = start+window\n",
    "                                if(stop >= len(x)):\n",
    "                                    continue\n",
    "                                identifier = {'file':str(fast5),\n",
    "                                              'readid':read.read_id,\n",
    "                                              'read_index_in_file':i,\n",
    "                                              'start':start,\n",
    "                                              'stop':stop,\n",
    "                                             }\n",
    "                                yield x[start:stop].reshape(-1,1).swapaxes(0,1), identifier  \n",
    "                except OSError as error:\n",
    "                    print(error)\n",
    "                    continue\n",
    "\n",
    "        def __iter__(self):\n",
    "            return self.process_files_fully(self.files, self.window)\n",
    "        \n",
    "window = 8192\n",
    "stride = window\n",
    "\n",
    "dset_map = {k:ExhaustiveDataset(files = exp_map[k], window=window, stride=stride) for k,v in exp_map.items()}\n"
   ]
  },
  {
   "cell_type": "code",
   "execution_count": 5,
   "id": "53b2bca8-170a-4dbd-813d-74e1aedb0897",
   "metadata": {},
   "outputs": [
    {
     "name": "stdout",
     "output_type": "stream",
     "text": [
      "NIA_POS\n",
      "73607\n",
      "NIA_NEG\n",
      "176093\n",
      "NANOID_POS\n",
      "177088\n",
      "NANOID_NEG\n",
      "216906\n"
     ]
    }
   ],
   "source": [
    "for k,v in dset_map.items():\n",
    "    print(k)\n",
    "    print(len(v.files))"
   ]
  },
  {
   "cell_type": "markdown",
   "id": "8fda9eeb-b3d3-450a-9d20-0ed08ac3438d",
   "metadata": {},
   "source": [
    "# Model loading\n"
   ]
  },
  {
   "cell_type": "code",
   "execution_count": null,
   "id": "787ebadd-7df7-4421-a772-54c076f02dab",
   "metadata": {},
   "outputs": [],
   "source": [
    "# model = RodanPretrainedSeqcaller5eu()\n",
    "# model"
   ]
  },
  {
   "cell_type": "code",
   "execution_count": 6,
   "id": "e47e1fad-06b6-47e9-b7bf-672387b2fd0e",
   "metadata": {},
   "outputs": [
    {
     "name": "stdout",
     "output_type": "stream",
     "text": [
      "FREEZING 0 layers\n",
      "Enabling gradients\n",
      "FREEZING 0 layers\n",
      "Enabling gradients\n"
     ]
    }
   ],
   "source": [
    "from rnamodif.architectures.rodan_seq_5eu import RodanPretrainedSeqcaller5eu\n",
    "#Error = removed RELU, added batchnorm\n",
    "# checkpoint = '/home/jovyan/RNAModif/rnamodif/checkpoints_pl/5eu_frozen10_chrsplit_wide/epoch=0-step=18000.ckpt'\n",
    "checkpoint = '/home/jovyan/RNAModif/rnamodif/checkpoints_pl/nanoid2_frozen10_relufix/last.ckpt'\n",
    "model = RodanPretrainedSeqcaller5eu().load_from_checkpoint(checkpoint)\n",
    "# model"
   ]
  },
  {
   "cell_type": "markdown",
   "id": "d16f0374-5693-40b1-a4c8-6e53576c6b12",
   "metadata": {},
   "source": [
    "# Training"
   ]
  },
  {
   "cell_type": "code",
   "execution_count": 10,
   "id": "76fd6b2a-3851-412d-8b25-71f9fe4be0ae",
   "metadata": {},
   "outputs": [
    {
     "name": "stdout",
     "output_type": "stream",
     "text": [
      "skipping others than nano negs\n",
      "skip NIA_POS\n",
      "skip NIA_NEG\n",
      "skip NANOID_POS\n"
     ]
    },
    {
     "name": "stderr",
     "output_type": "stream",
     "text": [
      "Using 16bit native Automatic Mixed Precision (AMP)\n",
      "GPU available: True (cuda), used: True\n",
      "TPU available: False, using: 0 TPU cores\n",
      "IPU available: False, using: 0 IPUs\n",
      "HPU available: False, using: 0 HPUs\n",
      "LOCAL_RANK: 0 - CUDA_VISIBLE_DEVICES: [0]\n"
     ]
    },
    {
     "data": {
      "application/vnd.jupyter.widget-view+json": {
       "model_id": "86e4662b4f194081bcd30ba984dd1014",
       "version_major": 2,
       "version_minor": 0
      },
      "text/plain": [
       "Predicting: 0it [00:00, ?it/s]"
      ]
     },
     "metadata": {},
     "output_type": "display_data"
    },
    {
     "name": "stdout",
     "output_type": "stream",
     "text": [
      "Unexpected exception formatting exception. Falling back to standard exception\n"
     ]
    },
    {
     "name": "stderr",
     "output_type": "stream",
     "text": [
      "Traceback (most recent call last):\n",
      "  File \"/home/jovyan/my-conda-envs/RNAmodEnvRod/lib/python3.8/site-packages/IPython/core/interactiveshell.py\", line 3398, in run_code\n",
      "    exec(code_obj, self.user_global_ns, self.user_ns)\n",
      "  File \"/tmp/ipykernel_36281/3299907584.py\", line 12, in <cell line: 5>\n",
      "    predictions = trainer.predict(model, dataloader)\n",
      "  File \"/home/jovyan/my-conda-envs/RNAmodEnvRod/lib/python3.8/site-packages/pytorch_lightning/trainer/trainer.py\", line 955, in predict\n",
      "    return self._call_and_handle_interrupt(\n",
      "  File \"/home/jovyan/my-conda-envs/RNAmodEnvRod/lib/python3.8/site-packages/pytorch_lightning/trainer/trainer.py\", line 654, in _call_and_handle_interrupt\n",
      "    return trainer_fn(*args, **kwargs)\n",
      "  File \"/home/jovyan/my-conda-envs/RNAmodEnvRod/lib/python3.8/site-packages/pytorch_lightning/trainer/trainer.py\", line 1002, in _predict_impl\n",
      "    results = self._run(model, ckpt_path=self.ckpt_path)\n",
      "  File \"/home/jovyan/my-conda-envs/RNAmodEnvRod/lib/python3.8/site-packages/pytorch_lightning/trainer/trainer.py\", line 1166, in _run\n",
      "    results = self._run_stage()\n",
      "  File \"/home/jovyan/my-conda-envs/RNAmodEnvRod/lib/python3.8/site-packages/pytorch_lightning/trainer/trainer.py\", line 1251, in _run_stage\n",
      "    return self._run_predict()\n",
      "  File \"/home/jovyan/my-conda-envs/RNAmodEnvRod/lib/python3.8/site-packages/pytorch_lightning/trainer/trainer.py\", line 1310, in _run_predict\n",
      "    return self.predict_loop.run()\n",
      "  File \"/home/jovyan/my-conda-envs/RNAmodEnvRod/lib/python3.8/site-packages/pytorch_lightning/loops/loop.py\", line 200, in run\n",
      "    self.advance(*args, **kwargs)\n",
      "  File \"/home/jovyan/my-conda-envs/RNAmodEnvRod/lib/python3.8/site-packages/pytorch_lightning/loops/dataloader/prediction_loop.py\", line 101, in advance\n",
      "    dl_predictions, dl_batch_indices = self.epoch_loop.run(\n",
      "  File \"/home/jovyan/my-conda-envs/RNAmodEnvRod/lib/python3.8/site-packages/pytorch_lightning/loops/loop.py\", line 200, in run\n",
      "    self.advance(*args, **kwargs)\n",
      "  File \"/home/jovyan/my-conda-envs/RNAmodEnvRod/lib/python3.8/site-packages/pytorch_lightning/loops/epoch/prediction_epoch_loop.py\", line 101, in advance\n",
      "    self._predict_step(batch, batch_idx, dataloader_idx)\n",
      "  File \"/home/jovyan/my-conda-envs/RNAmodEnvRod/lib/python3.8/site-packages/pytorch_lightning/loops/epoch/prediction_epoch_loop.py\", line 130, in _predict_step\n",
      "    predictions = self.trainer._call_strategy_hook(\"predict_step\", *step_kwargs.values())\n",
      "  File \"/home/jovyan/my-conda-envs/RNAmodEnvRod/lib/python3.8/site-packages/pytorch_lightning/trainer/trainer.py\", line 1703, in _call_strategy_hook\n",
      "    output = fn(*args, **kwargs)\n",
      "  File \"/home/jovyan/my-conda-envs/RNAmodEnvRod/lib/python3.8/site-packages/pytorch_lightning/strategies/strategy.py\", line 388, in predict_step\n",
      "    return self.model.predict_step(*args, **kwargs)\n",
      "  File \"/home/jovyan/RNAModif/rnamodif/architectures/rodan_seq_5eu.py\", line 137, in predict_step\n",
      "  File \"/home/jovyan/RNAModif/rnamodif/architectures/rodan_seq_5eu.py\", line 111, in forward\n",
      "    self.log('train_loss', loss, on_epoch=True)\n",
      "  File \"/home/jovyan/my-conda-envs/RNAmodEnvRod/lib/python3.8/site-packages/torch/nn/modules/module.py\", line 1130, in _call_impl\n",
      "    return forward_call(*input, **kwargs)\n",
      "  File \"/home/jovyan/my-conda-envs/RNAmodEnvRod/lib/python3.8/site-packages/torch/nn/modules/container.py\", line 139, in forward\n",
      "    input = module(input)\n",
      "  File \"/home/jovyan/my-conda-envs/RNAmodEnvRod/lib/python3.8/site-packages/torch/nn/modules/module.py\", line 1130, in _call_impl\n",
      "    return forward_call(*input, **kwargs)\n",
      "  File \"/home/jovyan/my-conda-envs/RNAmodEnvRod/lib/python3.8/site-packages/torch/nn/modules/linear.py\", line 114, in forward\n",
      "    return F.linear(input, self.weight, self.bias)\n",
      "RuntimeError: mat1 and mat2 shapes cannot be multiplied (256x728 and 360x100)\n",
      "\n",
      "During handling of the above exception, another exception occurred:\n",
      "\n",
      "Traceback (most recent call last):\n",
      "  File \"/home/jovyan/my-conda-envs/RNAmodEnvRod/lib/python3.8/site-packages/IPython/core/interactiveshell.py\", line 1993, in showtraceback\n",
      "    stb = self.InteractiveTB.structured_traceback(\n",
      "  File \"/home/jovyan/my-conda-envs/RNAmodEnvRod/lib/python3.8/site-packages/IPython/core/ultratb.py\", line 1118, in structured_traceback\n",
      "    return FormattedTB.structured_traceback(\n",
      "  File \"/home/jovyan/my-conda-envs/RNAmodEnvRod/lib/python3.8/site-packages/IPython/core/ultratb.py\", line 1012, in structured_traceback\n",
      "    return VerboseTB.structured_traceback(\n",
      "  File \"/home/jovyan/my-conda-envs/RNAmodEnvRod/lib/python3.8/site-packages/IPython/core/ultratb.py\", line 865, in structured_traceback\n",
      "    formatted_exception = self.format_exception_as_a_whole(etype, evalue, etb, number_of_lines_of_context,\n",
      "  File \"/home/jovyan/my-conda-envs/RNAmodEnvRod/lib/python3.8/site-packages/IPython/core/ultratb.py\", line 818, in format_exception_as_a_whole\n",
      "    frames.append(self.format_record(r))\n",
      "  File \"/home/jovyan/my-conda-envs/RNAmodEnvRod/lib/python3.8/site-packages/IPython/core/ultratb.py\", line 736, in format_record\n",
      "    result += ''.join(_format_traceback_lines(frame_info.lines, Colors, self.has_colors, lvals))\n",
      "  File \"/home/jovyan/my-conda-envs/RNAmodEnvRod/lib/python3.8/site-packages/stack_data/utils.py\", line 145, in cached_property_wrapper\n",
      "    value = obj.__dict__[self.func.__name__] = self.func(obj)\n",
      "  File \"/home/jovyan/my-conda-envs/RNAmodEnvRod/lib/python3.8/site-packages/stack_data/core.py\", line 698, in lines\n",
      "    pieces = self.included_pieces\n",
      "  File \"/home/jovyan/my-conda-envs/RNAmodEnvRod/lib/python3.8/site-packages/stack_data/utils.py\", line 145, in cached_property_wrapper\n",
      "    value = obj.__dict__[self.func.__name__] = self.func(obj)\n",
      "  File \"/home/jovyan/my-conda-envs/RNAmodEnvRod/lib/python3.8/site-packages/stack_data/core.py\", line 649, in included_pieces\n",
      "    pos = scope_pieces.index(self.executing_piece)\n",
      "  File \"/home/jovyan/my-conda-envs/RNAmodEnvRod/lib/python3.8/site-packages/stack_data/utils.py\", line 145, in cached_property_wrapper\n",
      "    value = obj.__dict__[self.func.__name__] = self.func(obj)\n",
      "  File \"/home/jovyan/my-conda-envs/RNAmodEnvRod/lib/python3.8/site-packages/stack_data/core.py\", line 628, in executing_piece\n",
      "    return only(\n",
      "  File \"/home/jovyan/my-conda-envs/RNAmodEnvRod/lib/python3.8/site-packages/executing/executing.py\", line 164, in only\n",
      "    raise NotOneValueFound('Expected one value, found 0')\n",
      "executing.executing.NotOneValueFound: Expected one value, found 0\n"
     ]
    }
   ],
   "source": [
    "from torch.utils.data import DataLoader\n",
    "import pytorch_lightning as pl\n",
    "preds_map = {}\n",
    "print('skipping others than nano negs')\n",
    "for name, dataset in dset_map.items():\n",
    "    if(name != 'NANOID_NEG'):\n",
    "        print('skip', name)\n",
    "        continue\n",
    "    #TODO utilize workers? Care for duplicate data!\n",
    "    dataloader = DataLoader(dataset, batch_size=256)\n",
    "    trainer = pl.Trainer(accelerator='gpu', precision=16)\n",
    "    predictions = trainer.predict(model, dataloader)\n",
    "    preds_map[name] = predictions\n",
    "print('DONE')"
   ]
  },
  {
   "cell_type": "code",
   "execution_count": null,
   "id": "637671fa-c4c5-4bec-bf7e-284b16132c6c",
   "metadata": {},
   "outputs": [],
   "source": [
    "import pickle\n",
    "#DELETE\n",
    "with open('nanoid2_frozen10_relufix_last_nanonegs.pickle', 'wb') as handle:\n",
    "    pickle.dump(preds_map, handle, protocol=pickle.HIGHEST_PROTOCOL)"
   ]
  },
  {
   "cell_type": "code",
   "execution_count": 10,
   "id": "062776e7-2503-4710-9033-29376a06f7e2",
   "metadata": {},
   "outputs": [],
   "source": [
    "import pickle\n",
    "with open('nanoid2_frozen10_relufix_last.pickle', 'wb') as handle:\n",
    "    pickle.dump(preds_map, handle, protocol=pickle.HIGHEST_PROTOCOL)"
   ]
  },
  {
   "cell_type": "markdown",
   "id": "0526770a-758f-4d8c-9736-a51b6af2fd26",
   "metadata": {},
   "source": [
    "# Metrics"
   ]
  },
  {
   "cell_type": "code",
   "execution_count": 18,
   "id": "077288c3-7501-412f-bf29-68697dcb254a",
   "metadata": {},
   "outputs": [
    {
     "name": "stdout",
     "output_type": "stream",
     "text": [
      "NIA_POS 6214\n",
      "NIA_NEG 16915\n",
      "NANOID_POS 18156\n"
     ]
    }
   ],
   "source": [
    "with open(f'5eu_frozen10_chrsplit_wide_epoch=0-step=18000.pickle','rb') as f:\n",
    "    preds_map = pickle.load(f)\n",
    "for k,v in preds_map.items():\n",
    "    print(k, len(v))"
   ]
  },
  {
   "cell_type": "code",
   "execution_count": 16,
   "id": "844afb55-96e8-4580-b09f-e3193c096c50",
   "metadata": {},
   "outputs": [
    {
     "name": "stdout",
     "output_type": "stream",
     "text": [
      "NIA_POS 13003\n",
      "NIA_NEG 35205\n",
      "NANOID_POS 37572\n"
     ]
    }
   ],
   "source": [
    "with open(f'nanoid2_frozen10_relufix_last.pickle','rb') as f:\n",
    "    preds_map = pickle.load(f)\n",
    "for k,v in preds_map.items():\n",
    "    print(k, len(v))"
   ]
  },
  {
   "cell_type": "code",
   "execution_count": 14,
   "id": "ce43555d-8b0b-4b49-a6b5-30a54fd97edc",
   "metadata": {},
   "outputs": [],
   "source": [
    "from collections import defaultdict\n",
    "import numpy as np\n",
    "def predictions_to_read_predictions(predictions, label, exp, pooling='mean'):\n",
    "    id_to_preds = defaultdict(list)\n",
    "    for pr, ids in predictions:\n",
    "        readid_probs = zip(ids['readid'], pr.numpy())\n",
    "        for readid, probab in readid_probs:\n",
    "            id_to_preds[readid].append(probab)\n",
    "                \n",
    "    if(pooling == 'max'):\n",
    "        for k,v in id_to_preds.items():\n",
    "            id_to_preds[k] = {'predicted':np.array(v).max(), 'label':label, 'exp':exp}\n",
    "        return id_to_preds\n",
    "    if(pooling == 'mean'):\n",
    "        for k,v in id_to_preds.items():\n",
    "            id_to_preds[k] = {'predicted':np.array(v).mean(), 'label':label, 'exp':exp}\n",
    "        return id_to_preds\n",
    "    if(pooling == 'none'):\n",
    "        id_to_preds_nopool = {}\n",
    "        for k,v in id_to_preds.items():\n",
    "            for i,prob in enumerate(v):\n",
    "                id_to_preds_nopool[f'{k}_{i}'] = {'predicted':prob, 'label':label, 'exp':exp}\n",
    "        return id_to_preds_nopool\n",
    "    \n",
    "    else:\n",
    "        raise Exception(f'{pooling} pooling not implemented')"
   ]
  },
  {
   "cell_type": "code",
   "execution_count": 22,
   "id": "a1671f97-0904-40c9-ab17-c5d1f5eb8884",
   "metadata": {},
   "outputs": [],
   "source": [
    "# preds_map['NIA_POS'][0][1]"
   ]
  },
  {
   "cell_type": "code",
   "execution_count": 19,
   "id": "ff27db62-cdb2-4baf-9d11-6a75314e7e06",
   "metadata": {},
   "outputs": [
    {
     "name": "stdout",
     "output_type": "stream",
     "text": [
      "NIA_POS 73507\n",
      "NIA_NEG 175868\n",
      "NANOID_POS 177088\n"
     ]
    }
   ],
   "source": [
    "exp_readpred = {}\n",
    "\n",
    "for exp in preds_map.keys():\n",
    "    exp_readpred[exp] = predictions_to_read_predictions(preds_map[exp], label=exp_label[exp], exp=exp, pooling='mean')\n",
    "\n",
    "for k,v in exp_readpred.items():\n",
    "    print(k, len(v))"
   ]
  },
  {
   "cell_type": "code",
   "execution_count": 46,
   "id": "953bf4bd-2f5b-4873-aa35-b7e8ede14723",
   "metadata": {},
   "outputs": [],
   "source": [
    "from matplotlib import pyplot as plt\n",
    "from sklearn import metrics\n",
    "import numpy as np\n",
    "\n",
    "def plot_roc(read_preds_list, title=''):\n",
    "    id_to_preds = {key: value for d in read_preds_list for key, value in d.items()}\n",
    "    # id_to_preds = predictions_to_read_predictions(dsets_preds, pooling)\n",
    "    labels = [v['label'] for k,v in id_to_preds.items()]\n",
    "    predictions = [v['predicted'] for k,v in id_to_preds.items()]\n",
    "    exps = np.unique([v['exp'] for k,v in id_to_preds.items()])\n",
    "    \n",
    "    if(np.isnan(predictions).any()):\n",
    "        print('Warning: Nan found in predictions, setting to 0')\n",
    "        print(np.where(np.isnan(predictions)))\n",
    "        for nan_idx in np.where(np.isnan(predictions))[0]:\n",
    "            predictions[nan_idx] = 0.0\n",
    "    \n",
    "    fpr, tpr, thresholds = metrics.roc_curve(labels, predictions)\n",
    "    cutoff_1 = thresholds[np.argmax(tpr-fpr)]\n",
    "    cutoff_1_tpr = tpr[np.argmax(tpr-fpr)]\n",
    "    \n",
    "    cutoff_2 = thresholds[np.argmin((1-tpr) ** 2 + fpr ** 2)]\n",
    "    cutoff_2_tpr = tpr[np.argmin((1-tpr) ** 2 + fpr ** 2)]\n",
    "    \n",
    "    try:\n",
    "        auc = metrics.roc_auc_score(labels, predictions)\n",
    "        precision, recall, thresholds = metrics.precision_recall_curve(labels, predictions)\n",
    "    except ValueError:\n",
    "        print('AUC not defined')\n",
    "        auc=0\n",
    "    \n",
    "    exps = str(exps[:len(exps)//2])+'\\n'+str(exps[len(exps)//2:]) #For nice legend printing\n",
    "    plt.plot(fpr, tpr, label = f'{exps} \\n AUC %.3f CUTOFFS {str(cutoff_1)[:4]} (tpr {str(cutoff_1_tpr)[:4]}) or {str(cutoff_2)[:4]} (tpr {str(cutoff_2_tpr)[:4]})' % auc)\n",
    "    plt.title(f'{title}')\n",
    "    plt.ylabel('True Positive Rate')\n",
    "    plt.xlabel('False Positive Rate')\n",
    "    plt.legend(loc='center left', bbox_to_anchor=(1,0.5), prop={'size':10})\n",
    "\n",
    "    plt.xlim([0, 1.05])\n",
    "    plt.ylim([0, 1.05])"
   ]
  },
  {
   "cell_type": "code",
   "execution_count": 51,
   "id": "a5f7a09c-8180-4495-bf3c-a63ac61e8141",
   "metadata": {},
   "outputs": [
    {
     "data": {
      "image/png": "[encoded data removed]",
      "text/plain": [
       "<Figure size 432x288 with 1 Axes>"
      ]
     },
     "metadata": {
      "needs_background": "light"
     },
     "output_type": "display_data"
    }
   ],
   "source": [
    "plot_roc([exp_readpred[NIA_POS], exp_readpred[NIA_NEG]])"
   ]
  },
  {
   "cell_type": "code",
   "execution_count": null,
   "id": "397fbe9b-46e1-42a9-901c-eb4bec0c3e41",
   "metadata": {},
   "outputs": [],
   "source": [
    "plot_roc([exp_readpred[NANOID_POS], exp_readpred[NANOID_NEG]], pooling='mean')"
   ]
  }
 ],
 "metadata": {
  "kernelspec": {
   "display_name": "Python [conda env:RNAmodEnvRod]",
   "language": "python",
   "name": "conda-env-RNAmodEnvRod-py"
  },
  "language_info": {
   "codemirror_mode": {
    "name": "ipython",
    "version": 3
   },
   "file_extension": ".py",
   "mimetype": "text/x-python",
   "name": "python",
   "nbconvert_exporter": "python",
   "pygments_lexer": "ipython3",
   "version": "3.8.13"
  }
 },
 "nbformat": 4,
 "nbformat_minor": 5
}
