{
 "cells": [
  {
   "cell_type": "code",
   "execution_count": 1,
   "id": "0cff3db1-26bb-45ef-9f0e-e72d5cbcbf9f",
   "metadata": {},
   "outputs": [],
   "source": [
    "from rnamodif.evaluation.evaluation import run_eval\n",
    "from rnamodif.data_utils.split_methods import get_fullvalid_split, get_default_split, get_kfold_split_func\n",
    "from rnamodif.architectures.rodan_pretrained import RodanPretrained\n",
    "import pickle\n",
    "\n",
    "with open(f'/home/jovyan/RNAModif/rnamodif/label_cleaning/2022_blacklist_positives','rb') as f:\n",
    "    bl = pickle.load(f)"
   ]
  },
  {
   "cell_type": "code",
   "execution_count": 5,
   "id": "f6bddc56-f665-4e72-b2f0-04211558c1bd",
   "metadata": {},
   "outputs": [
    {
     "name": "stderr",
     "output_type": "stream",
     "text": [
      "Using 16bit native Automatic Mixed Precision (AMP)\n",
      "GPU available: True (cuda), used: True\n",
      "TPU available: False, using: 0 TPU cores\n",
      "IPU available: False, using: 0 IPUs\n",
      "HPU available: False, using: 0 HPUs\n",
      "LOCAL_RANK: 0 - CUDA_VISIBLE_DEVICES: [0]\n"
     ]
    },
    {
     "data": {
      "application/vnd.jupyter.widget-view+json": {
       "model_id": "fe914c359ed14e25aabcae227d9cf3f5",
       "version_major": 2,
       "version_minor": 0
      },
      "text/plain": [
       "Validation: 0it [00:00, ?it/s]"
      ]
     },
     "metadata": {},
     "output_type": "display_data"
    },
    {
     "name": "stdout",
     "output_type": "stream",
     "text": [
      "────────────────────────────────────────────────────────────────────────────────────────────────────────────────────────\n",
      "     Validate metric             DataLoader 0\n",
      "────────────────────────────────────────────────────────────────────────────────────────────────────────────────────────\n",
      "        valid acc            0.47665122151374817\n",
      "valid false_negatives_perc    0.4808673560619354\n",
      "valid false_positives_perc    0.5405131578445435\n",
      "valid true_negatives_perc    0.45948684215545654\n",
      "valid true_positives_perc     0.519132673740387\n",
      "        valid_loss            0.9093493819236755\n",
      "────────────────────────────────────────────────────────────────────────────────────────────────────────────────────────\n"
     ]
    },
    {
     "data": {
      "text/plain": [
       "[{'valid_loss': 0.9093493819236755,\n",
       "  'valid true_positives_perc': 0.519132673740387,\n",
       "  'valid false_negatives_perc': 0.4808673560619354,\n",
       "  'valid acc': 0.47665122151374817,\n",
       "  'valid true_negatives_perc': 0.45948684215545654,\n",
       "  'valid false_positives_perc': 0.5405131578445435}]"
      ]
     },
     "execution_count": 5,
     "metadata": {},
     "output_type": "execute_result"
    }
   ],
   "source": [
    "config = {\n",
    "    'pos_files':'5eu_nanoid_24h',#'5eu_nanoid_1h', '5eu_nanoid_mix'\n",
    "    'neg_files':'5eu_nanoid_neg',\n",
    "    'window':4096,\n",
    "    'split': get_fullvalid_split(limit=1000),\n",
    "    'arch': RodanPretrained,\n",
    "    'checkpoint': '/home/jovyan/RNAModif/rnamodif/checkpoints_pl/rodan_2022_clean_0of5/epoch=0-step=729500.ckpt',\n",
    "}\n",
    "run_eval(config)"
   ]
  },
  {
   "cell_type": "code",
   "execution_count": 4,
   "id": "eadc7ff3-89b4-4948-aae5-9af00c23fedb",
   "metadata": {},
   "outputs": [
    {
     "name": "stdout",
     "output_type": "stream",
     "text": [
      "valid files indicies\n"
     ]
    },
    {
     "name": "stderr",
     "output_type": "stream",
     "text": [
      "Using 16bit native Automatic Mixed Precision (AMP)\n",
      "GPU available: True (cuda), used: True\n",
      "TPU available: False, using: 0 TPU cores\n",
      "IPU available: False, using: 0 IPUs\n",
      "HPU available: False, using: 0 HPUs\n",
      "LOCAL_RANK: 0 - CUDA_VISIBLE_DEVICES: [0]\n"
     ]
    },
    {
     "data": {
      "application/vnd.jupyter.widget-view+json": {
       "model_id": "27553e584053423f88316c69700a48c3",
       "version_major": 2,
       "version_minor": 0
      },
      "text/plain": [
       "Validation: 0it [00:00, ?it/s]"
      ]
     },
     "metadata": {},
     "output_type": "display_data"
    },
    {
     "name": "stdout",
     "output_type": "stream",
     "text": [
      "────────────────────────────────────────────────────────────────────────────────────────────────────────────────────────\n",
      "     Validate metric             DataLoader 0\n",
      "────────────────────────────────────────────────────────────────────────────────────────────────────────────────────────\n",
      "        valid acc             0.9057199358940125\n",
      "valid false_negatives_perc   0.07289604842662811\n",
      "valid false_positives_perc   0.02138633094727993\n",
      "valid true_negatives_perc     0.8110798001289368\n",
      "valid true_positives_perc    0.09464558959007263\n",
      "        valid_loss           0.29950833320617676\n",
      "────────────────────────────────────────────────────────────────────────────────────────────────────────────────────────\n"
     ]
    },
    {
     "data": {
      "text/plain": [
       "[{'valid_loss': 0.29950833320617676,\n",
       "  'valid true_negatives_perc': 0.8110798001289368,\n",
       "  'valid false_negatives_perc': 0.07289604842662811,\n",
       "  'valid true_positives_perc': 0.09464558959007263,\n",
       "  'valid false_positives_perc': 0.02138633094727993,\n",
       "  'valid acc': 0.9057199358940125}]"
      ]
     },
     "execution_count": 4,
     "metadata": {},
     "output_type": "execute_result"
    }
   ],
   "source": [
    "config = {\n",
    "    'pos_files':'pos_2022',\n",
    "    'neg_files':'neg_2022',\n",
    "    'window':4096,\n",
    "    'split': get_kfold_split_func(total_k=5, current_k=0),\n",
    "    'arch': RodanPretrained,\n",
    "    'checkpoint': '/home/jovyan/RNAModif/rnamodif/checkpoints_pl/rodan_2022_kfold_0of5/epoch=0-step=226000.ckpt',\n",
    "    'read_blacklist':bl,\n",
    "    'multiprocessing':True,\n",
    "}\n",
    "run_eval(config)"
   ]
  },
  {
   "cell_type": "code",
   "execution_count": 5,
   "id": "2f01c081-100e-416e-98cc-1a74a3fff888",
   "metadata": {},
   "outputs": [
    {
     "name": "stdout",
     "output_type": "stream",
     "text": [
      "valid files indicies\n"
     ]
    },
    {
     "name": "stderr",
     "output_type": "stream",
     "text": [
      "Using 16bit native Automatic Mixed Precision (AMP)\n",
      "GPU available: True (cuda), used: True\n",
      "TPU available: False, using: 0 TPU cores\n",
      "IPU available: False, using: 0 IPUs\n",
      "HPU available: False, using: 0 HPUs\n",
      "LOCAL_RANK: 0 - CUDA_VISIBLE_DEVICES: [0]\n"
     ]
    },
    {
     "data": {
      "application/vnd.jupyter.widget-view+json": {
       "model_id": "dd72a5468337490590371aa3c2e1117b",
       "version_major": 2,
       "version_minor": 0
      },
      "text/plain": [
       "Validation: 0it [00:00, ?it/s]"
      ]
     },
     "metadata": {},
     "output_type": "display_data"
    },
    {
     "name": "stderr",
     "output_type": "stream",
     "text": [
      "/home/jovyan/my-conda-envs/RNAmodEnvRod/lib/python3.8/site-packages/pytorch_lightning/trainer/trainer.py:657: UserWarning: Detected KeyboardInterrupt, attempting graceful shutdown...\n",
      "  rank_zero_warn(\"Detected KeyboardInterrupt, attempting graceful shutdown...\")\n"
     ]
    }
   ],
   "source": [
    "config = {\n",
    "    'pos_files':'pos_2022',\n",
    "    'neg_files':'neg_2022',\n",
    "    'window':4096,\n",
    "    'split': get_kfold_split_func(total_k=5, current_k=0),\n",
    "    'arch': RodanPretrained,\n",
    "    'checkpoint': '/home/jovyan/RNAModif/rnamodif/checkpoints_pl/rodan_2022_clean_0of5/epoch=0-step=729500.ckpt',\n",
    "    'read_blacklist':[],\n",
    "    'multiprocessing':True,\n",
    "    \n",
    "}\n",
    "run_eval(config)"
   ]
  },
  {
   "cell_type": "code",
   "execution_count": null,
   "id": "cb85d2fd-13c7-4105-8bfa-1c2b42ec05dc",
   "metadata": {},
   "outputs": [
    {
     "name": "stdout",
     "output_type": "stream",
     "text": [
      "valid files indicies\n"
     ]
    }
   ],
   "source": [
    "config = {\n",
    "    'pos_files':'pos_2022',\n",
    "    'neg_files':'neg_2022',\n",
    "    'window':4096,\n",
    "    'split': get_kfold_split_func(total_k=5, current_k=0),\n",
    "    'arch': RodanPretrained,\n",
    "    'checkpoint': '/home/jovyan/RNAModif/rnamodif/checkpoints_pl/rodan_2022_kfold_0of5/epoch=0-step=226000.ckpt',\n",
    "    'read_blacklist':[],\n",
    "    'multiprocessing':True,\n",
    "    \n",
    "}\n",
    "run_eval(config)"
   ]
  }
 ],
 "metadata": {
  "kernelspec": {
   "display_name": "Python [conda env:RNAmodEnvRod]",
   "language": "python",
   "name": "conda-env-RNAmodEnvRod-py"
  },
  "language_info": {
   "codemirror_mode": {
    "name": "ipython",
    "version": 3
   },
   "file_extension": ".py",
   "mimetype": "text/x-python",
   "name": "python",
   "nbconvert_exporter": "python",
   "pygments_lexer": "ipython3",
   "version": "3.8.13"
  }
 },
 "nbformat": 4,
 "nbformat_minor": 5
}
