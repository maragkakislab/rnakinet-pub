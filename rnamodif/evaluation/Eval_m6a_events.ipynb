{
 "cells": [
  {
   "cell_type": "code",
   "execution_count": 2,
   "id": "a2fc8984-757d-4cf5-a359-58c2716f4f8e",
   "metadata": {},
   "outputs": [],
   "source": [
    "from evaluation import get_trained_model\n",
    "from rnamodif.architectures.rodan_event import RodanEvent\n",
    "from rnamodif.data_utils.dataloading_events import MyIterableMixedDataset\n",
    "from torch.utils.data import DataLoader\n",
    "import pytorch_lightning as pl\n",
    "from rnamodif.evaluation.eval_vis_events import get_mismatches, plot_diversity, plot_cm, plot_alignments\n",
    "\n",
    "import numpy as np\n",
    "np.warnings.filterwarnings('ignore', category=np.VisibleDeprecationWarning)\n",
    "\n",
    "def eval_events(model_path, pos, neg, limit=10000, example_batch=0):\n",
    "    #TODO i had vocab wrong -> 0134 -> effects?!\n",
    "    model = get_trained_model(RodanEvent,model_path,{'vocab_map':{'A':0,'C':1,'G':2,'T':3}})\n",
    "    dset = MyIterableMixedDataset(pos_readers=pos, neg_readers=neg, split='valid', window=4096, limit=limit)\n",
    "    loader = DataLoader(dset, batch_size=64)#, num_workers=8)\n",
    "\n",
    "    trainer = pl.Trainer(accelerator='gpu', profiler=None, precision=16)\n",
    "    predictions = trainer.predict(model, loader, return_predictions=True)\n",
    "    mismatches, diversity, cm, ex = get_mismatches(predictions, example_batch=example_batch)\n",
    "    return mismatches, diversity, cm, ex\n",
    "    \n",
    "nih_10 = '/home/jovyan/taiyaki_test/mapped_reads_2/m6A_10'\n",
    "nih_33 = '/home/jovyan/taiyaki_test/mapped_reads_2/m6A_33'\n",
    "nih_5 = '/home/jovyan/taiyaki_test/mapped_reads_2/m6A_5'\n",
    "nih_0 = '/home/jovyan/taiyaki_test/mapped_reads_2/m6A_0'\n",
    "nov_pos = '/home/jovyan/taiyaki_test/mapped_reads_2/RNAAB090763_m6A'\n",
    "nov_neg = '/home/jovyan/taiyaki_test/mapped_reads_2/RNAAB089716_m6A_UNM'\n",
    "\n",
    "nih_1_model = '/home/jovyan/RNAModif/rnamodif/checkpoints_pl/m6a_0v33_event_modp_1/last.ckpt'\n",
    "nih_1_narrow_model = '/home/jovyan/RNAModif/rnamodif/checkpoints_pl/m6a_0v33_event_modp_1_narrow/last.ckpt'\n",
    "nih_05_model = '/home/jovyan/RNAModif/rnamodif/checkpoints_pl/m6a_0v33_event_modp_05/last.ckpt'\n",
    "\n",
    "novoa_1_model = '/home/jovyan/RNAModif/rnamodif/checkpoints_pl/m6a_novoa_event_modp_1/last-v2.ckpt'\n",
    "novoa_1_narrow_model = '/home/jovyan/RNAModif/rnamodif/checkpoints_pl/m6a_novoa_event_modp_1_narrow/last-v1.ckpt'\n",
    "novoa_05_model = '/home/jovyan/RNAModif/rnamodif/checkpoints_pl/m6a_novoa_event_modp_05/last.ckpt'\n",
    "\n",
    "nih_cectc = '/home/jovyan/RNAModif/rnamodif/checkpoints_pl/m6a_0v33_MIL_sampleavg_smooth5_blank03/last.ckpt'\n",
    "\n",
    "\n",
    "\n",
    "dsets = {\n",
    "    'nih_33':nih_33,\n",
    "    'nih_10':nih_10,\n",
    "    'nih_5':nih_5,\n",
    "    'nih_neg':nih_0,\n",
    "    # 'nov_pos':nov_pos,\n",
    "    # 'nov_neg':nov_neg,\n",
    "}\n",
    "models = {\n",
    "    'nih_cectc':nih_cectc,\n",
    "    # 'nih_1_model':nih_1_model,\n",
    "    # 'nih_1_narrow_model':nih_1_narrow_model,\n",
    "    # 'nih_05_model':nih_05_model,\n",
    "    # 'novoa_1_model':novoa_1_model,\n",
    "    # 'novoa_1_narrow_model':novoa_1_narrow_model,\n",
    "    # 'novoa_05_model':novoa_05_model,\n",
    "\n",
    "}\n"
   ]
  },
  {
   "cell_type": "code",
   "execution_count": 3,
   "id": "dfe9f29e-f624-46a2-be7a-10ef58cee596",
   "metadata": {},
   "outputs": [],
   "source": [
    "from Bio import pairwise2\n",
    "\n",
    "def cm_to_acc(cm):\n",
    "    return (cm[0][0]+cm[1][1])/sum(cm.flatten())\n",
    "    \n",
    "    \n",
    "def plot_alignments2(alignments):\n",
    "    for lab in range(2):\n",
    "        for pred in range(2):\n",
    "            if(alignments[lab][pred]):\n",
    "                print(f'label:{lab}, prediction:{pred}')\n",
    "                # print(alignments[lab][pred])\n",
    "                print(pairwise2.format_alignment(*alignments[lab][pred]))\n",
    "            \n",
    "def plot_results(mismatches, diversity, cm, example_alignments, title=''):\n",
    "    print(title)\n",
    "    plot_cm(cm)  \n",
    "    \n",
    "    for k,v in mismatches.items():\n",
    "        print(k,v)\n",
    "    print('acc', cm_to_acc(cm))\n",
    "    # plot_diversity(diversity)  \n",
    "    plot_alignments2(example_alignments)\n",
    "    # plot_alignments(example_alignments)\n",
    "    \n",
    "    \n",
    "    \n",
    "\n",
    "# plot_results(*nih_z33)\n"
   ]
  },
  {
   "cell_type": "code",
   "execution_count": 4,
   "id": "bb2f9d94-744e-40c6-9100-ca33eb02a937",
   "metadata": {},
   "outputs": [
    {
     "name": "stdout",
     "output_type": "stream",
     "text": [
      "using CTC loss\n",
      "using CTC loss\n"
     ]
    },
    {
     "name": "stderr",
     "output_type": "stream",
     "text": [
      "Using 16bit native Automatic Mixed Precision (AMP)\n",
      "/home/jovyan/my-conda-envs/RNAmodEnvRod/lib/python3.8/site-packages/pytorch_lightning/loops/utilities.py:93: PossibleUserWarning: `max_epochs` was not set. Setting it to 1000 epochs. To train without an epoch limit, set `max_epochs=-1`.\n",
      "  rank_zero_warn(\n",
      "GPU available: True (cuda), used: True\n",
      "TPU available: False, using: 0 TPU cores\n",
      "IPU available: False, using: 0 IPUs\n",
      "HPU available: False, using: 0 HPUs\n",
      "LOCAL_RANK: 0 - CUDA_VISIBLE_DEVICES: [0]\n",
      "/home/jovyan/my-conda-envs/RNAmodEnvRod/lib/python3.8/site-packages/pytorch_lightning/trainer/connectors/data_connector.py:219: PossibleUserWarning: The dataloader, predict_dataloader 0, does not have many workers which may be a bottleneck. Consider increasing the value of the `num_workers` argument` (try 128 which is the number of cpus on this machine) in the `DataLoader` init to improve performance.\n",
      "  rank_zero_warn(\n"
     ]
    },
    {
     "data": {
      "application/vnd.jupyter.widget-view+json": {
       "model_id": "74a1960cd312446586594038f2cbecb8",
       "version_major": 2,
       "version_minor": 0
      },
      "text/plain": [
       "Predicting: 0it [00:00, ?it/s]"
      ]
     },
     "metadata": {},
     "output_type": "display_data"
    },
    {
     "name": "stderr",
     "output_type": "stream",
     "text": [
      "/home/jovyan/my-conda-envs/RNAmodEnvRod/lib/python3.8/site-packages/pytorch_lightning/loops/epoch/prediction_epoch_loop.py:173: UserWarning: Lightning couldn't infer the indices fetched for your dataloader.\n",
      "  warning_cache.warn(\"Lightning couldn't infer the indices fetched for your dataloader.\")\n",
      "/home/jovyan/my-conda-envs/RNAmodEnvRod/lib/python3.8/site-packages/numpy/core/fromnumeric.py:57: FutureWarning: The input object of type 'Tensor' is an array-like implementing one of the corresponding protocols (`__array__`, `__array_interface__` or `__array_struct__`); but not a sequence (or 0-D). In the future, this object will be coerced as if it was first converted using `np.array(obj)`. To retain the old behaviour, you have to either modify the type 'Tensor', or assign to an empty array created with `np.empty(correct_shape, dtype=object)`.\n",
      "  return bound(*args, **kwds)\n",
      "100%|██████████| 157/157 [00:10<00:00, 15.23it/s]\n"
     ]
    },
    {
     "name": "stdout",
     "output_type": "stream",
     "text": [
      "using CTC loss\n",
      "using CTC loss\n"
     ]
    },
    {
     "name": "stderr",
     "output_type": "stream",
     "text": [
      "Using 16bit native Automatic Mixed Precision (AMP)\n",
      "GPU available: True (cuda), used: True\n",
      "TPU available: False, using: 0 TPU cores\n",
      "IPU available: False, using: 0 IPUs\n",
      "HPU available: False, using: 0 HPUs\n",
      "LOCAL_RANK: 0 - CUDA_VISIBLE_DEVICES: [0]\n"
     ]
    },
    {
     "data": {
      "application/vnd.jupyter.widget-view+json": {
       "model_id": "64ea518f639742f48c0bcffe2c946973",
       "version_major": 2,
       "version_minor": 0
      },
      "text/plain": [
       "Predicting: 0it [00:00, ?it/s]"
      ]
     },
     "metadata": {},
     "output_type": "display_data"
    },
    {
     "name": "stderr",
     "output_type": "stream",
     "text": [
      "100%|██████████| 157/157 [00:10<00:00, 15.22it/s]\n"
     ]
    },
    {
     "name": "stdout",
     "output_type": "stream",
     "text": [
      "using CTC loss\n",
      "using CTC loss\n"
     ]
    },
    {
     "name": "stderr",
     "output_type": "stream",
     "text": [
      "Using 16bit native Automatic Mixed Precision (AMP)\n",
      "GPU available: True (cuda), used: True\n",
      "TPU available: False, using: 0 TPU cores\n",
      "IPU available: False, using: 0 IPUs\n",
      "HPU available: False, using: 0 HPUs\n",
      "LOCAL_RANK: 0 - CUDA_VISIBLE_DEVICES: [0]\n"
     ]
    },
    {
     "data": {
      "application/vnd.jupyter.widget-view+json": {
       "model_id": "cf4852f1846549eabc7f414c14d6f208",
       "version_major": 2,
       "version_minor": 0
      },
      "text/plain": [
       "Predicting: 0it [00:00, ?it/s]"
      ]
     },
     "metadata": {},
     "output_type": "display_data"
    },
    {
     "name": "stderr",
     "output_type": "stream",
     "text": [
      "100%|██████████| 157/157 [00:10<00:00, 14.80it/s]\n"
     ]
    }
   ],
   "source": [
    "import pickle\n",
    "results = {}\n",
    "for model_name, model in models.items():\n",
    "    if('nih' in model_name):\n",
    "        nih_train_perc = 0.8\n",
    "        novoa_train_perc = 0.0\n",
    "    elif('novoa' in model_name):\n",
    "        nih_train_perc = 0.0\n",
    "        novoa_train_perc = 0.8\n",
    "        \n",
    "    res_z33 = eval_events(model,[(nih_33,nih_train_perc)],[(nih_0,nih_train_perc)], limit=10000, example_batch=30)\n",
    "    res_z10 = eval_events(model,[(nih_10,0.0)],[(nih_0,nih_train_perc)])\n",
    "    res_z5 = eval_events(model,[(nih_5,0.0)],[(nih_0,nih_train_perc)])\n",
    "    # res_nov = eval_events(model,[(nov_pos,novoa_train_perc)],[(nov_neg,novoa_train_perc)])\n",
    "    results[model_name] = {'z33':res_z33,'z10':res_z10, 'z5':res_z5}#,'nov':res_nov}\n",
    "    # results[model_name] = {'z33':res_z33}\n",
    "    \n",
    "\n",
    "with open('events_eval.pickle', 'wb') as f:\n",
    "    pickle.dump(results, f)"
   ]
  },
  {
   "cell_type": "code",
   "execution_count": 15,
   "id": "d44f09ff-44cb-41df-8587-4139453979e0",
   "metadata": {},
   "outputs": [
    {
     "data": {
      "text/plain": [
       "dict_keys([])"
      ]
     },
     "execution_count": 15,
     "metadata": {},
     "output_type": "execute_result"
    }
   ],
   "source": [
    "results.keys()"
   ]
  },
  {
   "cell_type": "code",
   "execution_count": 6,
   "id": "5f46f627-cea0-4804-a30c-2091b134bbff",
   "metadata": {},
   "outputs": [
    {
     "data": {
      "text/plain": [
       "dict_keys(['z33'])"
      ]
     },
     "execution_count": 6,
     "metadata": {},
     "output_type": "execute_result"
    }
   ],
   "source": [
    "results['nih_cectc'].keys()"
   ]
  },
  {
   "cell_type": "code",
   "execution_count": 5,
   "id": "0fd6d852-fb31-4b93-b158-5e3b0b4c0a82",
   "metadata": {},
   "outputs": [
    {
     "name": "stdout",
     "output_type": "stream",
     "text": [
      "\n"
     ]
    },
    {
     "data": {
      "image/png": "[encoded data removed]",
      "text/plain": [
       "<Figure size 432x288 with 2 Axes>"
      ]
     },
     "metadata": {
      "needs_background": "light"
     },
     "output_type": "display_data"
    },
    {
     "name": "stdout",
     "output_type": "stream",
     "text": [
      "A => A 131715\n",
      "X => A 119699\n",
      "X => X 7569\n",
      "- => X 6123\n",
      "- => A 3251\n",
      "X => - 3112\n",
      "G => - 1390\n",
      "- => C 1313\n",
      "- => T 1206\n",
      "A => - 1152\n",
      "C => - 1138\n",
      "- => G 1076\n",
      "T => - 1017\n",
      "A => X 506\n",
      "T => X 447\n",
      "C => X 417\n",
      "G => X 411\n",
      "C => A 188\n",
      "X => T 134\n",
      "G => A 122\n",
      "X => G 117\n",
      "T => A 115\n",
      "X => C 98\n",
      "T => G 43\n",
      "C => T 35\n",
      "G => C 20\n",
      "C => G 19\n",
      "G => T 19\n",
      "A => G 19\n",
      "T => C 12\n",
      "A => T 12\n",
      "A => C 7\n",
      "acc 0.8468\n",
      "label:0, prediction:0\n",
      "ACTAACCCCGGAGAGAAAGGTTTTGTGACGACGTGACCCGTGACGAACAAACCTCAGGAGAAAACCGCTCCGAACAAATTTTAAAAGACGGACTGAAGAAACCGTGAAACGAAGCAATGAACGAACCCGAC\n",
      " ||||||||||||||||||||||||||||||||||||||||||||||||||||||||||||||||||||||||||||||||||||||||||||||||||||||||||||||||||||||||||||||||||\n",
      "-CTAACCCCGGAGAGAAAGGTTTTGTGACGACGTGACCCGTGACGAACAAACCTCAGGAGAAAACCGCTCCGAACAAATTTTAAAAGACGGACTGAAGAAACCGTGAAACGAAGCAATGAACGAACCCGAC\n",
      "  Score=255\n",
      "\n",
      "label:0, prediction:1\n",
      "-ATCCGTAAGTTTAAGAGTAAGTTGTGAAAGTACTATCAGAGTTTTGGTCCATCTCATGATAGTTTAGATTGACGTGGACTT-\n",
      " ||||||||||||||||||||||||||||||||||||||||||||||||||||||||||||||||||||||||||||||||| \n",
      "XATCCGTAAGTTTAAGAGTAAGTTGTGAAAGTACTATCAGAGTTTTGGTCCATCTCATGATAGTTTAGATTGACGTGGACTTX\n",
      "  Score=152\n",
      "\n",
      "label:1, prediction:0\n",
      "-GXXCCCXGGGXXXGCTGTTXTXGTCTCGCCCXTXXCCXCXGGCGXXCCGXCXXXCGTTGGG\n",
      " |..|||.|||...||||||.|.|||||||||.|..||.|.||||..|||.|...|||||||\n",
      "CGAACCCAGGGAAAGCTGTTATAGTCTCGCCCATAACCACAGGCGAACCGACAAACGTTGGG\n",
      "  Score=60\n",
      "\n",
      "label:1, prediction:1\n",
      "GTGGTCTTXXGXXXXXCTGGTTXXGXTTXXXTCTXGGTTTC-T-TCTTCCGTGGTTGXCXXCCTCGGTTGXGXC\n",
      " .||||||..||....||||||..|.||...|||.|||||| | |||||||||||||.||.|||||||||.|.|\n",
      "-XGGTCTTAAGXAAAACTGGTTAAGATTAAATCTAGGTTTCXTXTCTTCCGTGGTTGACXACCTCGGTTGAGAC\n",
      "  Score=73\n",
      "\n"
     ]
    }
   ],
   "source": [
    "plot_results(*results['nih_cectc']['z33'])\n",
    "# plot_results(*results['nih_cectc']['z10'])\n",
    "\n",
    "# plot_results(*results['nih_cectc']['z5'])\n",
    "# plot_results(*results['nih_cectc']['nov'])\n",
    "# plot_results(*results['novoa_1_model']['nov'])\n",
    "# plot_results(*results['novoa_1_model']['z33'])\n"
   ]
  },
  {
   "cell_type": "code",
   "execution_count": 6,
   "id": "951192f6-39b2-4595-a994-12395bf2efef",
   "metadata": {},
   "outputs": [
    {
     "name": "stdout",
     "output_type": "stream",
     "text": [
      "using CTC loss\n",
      "using CTC loss\n"
     ]
    },
    {
     "name": "stderr",
     "output_type": "stream",
     "text": [
      "Using 16bit native Automatic Mixed Precision (AMP)\n",
      "GPU available: True (cuda), used: True\n",
      "TPU available: False, using: 0 TPU cores\n",
      "IPU available: False, using: 0 IPUs\n",
      "HPU available: False, using: 0 HPUs\n",
      "LOCAL_RANK: 0 - CUDA_VISIBLE_DEVICES: [0]\n"
     ]
    },
    {
     "data": {
      "application/vnd.jupyter.widget-view+json": {
       "model_id": "952292e45b0943308b781e1a39e19e92",
       "version_major": 2,
       "version_minor": 0
      },
      "text/plain": [
       "Predicting: 0it [00:00, ?it/s]"
      ]
     },
     "metadata": {},
     "output_type": "display_data"
    }
   ],
   "source": [
    "model = get_trained_model(RodanEvent,nih_cectc,{'vocab_map':{'A':0,'C':1,'G':2,'T':3}})\n",
    "pos, neg = [(nih_33,nih_train_perc)],[(nih_0,nih_train_perc)]\n",
    "dset = MyIterableMixedDataset(pos_readers=pos, neg_readers=neg, split='valid', window=4096, limit=1000)\n",
    "loader = DataLoader(dset, batch_size=64)#, num_workers=8)\n",
    "trainer = pl.Trainer(accelerator='gpu', profiler=None, precision=16)\n",
    "predictions = trainer.predict(model, loader, return_predictions=True)"
   ]
  },
  {
   "cell_type": "code",
   "execution_count": 7,
   "id": "a039a2e8-f755-489c-8643-949495a5f050",
   "metadata": {},
   "outputs": [
    {
     "name": "stdout",
     "output_type": "stream",
     "text": [
      "tensor(0.0402)\n",
      "variance tensor(0.0250)\n",
      "tensor(0.1000)\n",
      "variance tensor(0.0020)\n",
      "tensor(0.0573)\n",
      "tensor(0.0158)\n"
     ]
    },
    {
     "data": {
      "image/png": "[encoded data removed]",
      "text/plain": [
       "<Figure size 432x288 with 1 Axes>"
      ]
     },
     "metadata": {
      "needs_background": "light"
     },
     "output_type": "display_data"
    },
    {
     "data": {
      "image/png": "[encoded data removed]",
      "text/plain": [
       "<Figure size 432x288 with 1 Axes>"
      ]
     },
     "metadata": {
      "needs_background": "light"
     },
     "output_type": "display_data"
    },
    {
     "name": "stdout",
     "output_type": "stream",
     "text": [
      "ACTGGCGCTTGGTCTAGCCGATCGTCCACGTCTGGAAGGTCTCGGAAGTTGTATTTTCGGGACTCCGTTATGGCACGGCCCGCGTTTGGATCATCCTTATCGGAGT\n"
     ]
    },
    {
     "data": {
      "image/png": "[encoded data removed]",
      "text/plain": [
       "<Figure size 432x288 with 1 Axes>"
      ]
     },
     "metadata": {
      "needs_background": "light"
     },
     "output_type": "display_data"
    },
    {
     "data": {
      "image/png": "[encoded data removed]",
      "text/plain": [
       "<Figure size 432x288 with 1 Axes>"
      ]
     },
     "metadata": {
      "needs_background": "light"
     },
     "output_type": "display_data"
    },
    {
     "name": "stdout",
     "output_type": "stream",
     "text": [
      "TXXXXGXCGGXCTGXXGXXXCCGTGXXXCGXXGCXXTGXXCGXXCCCGXCCGGCCGTXGXXXTGGCTCGXXTCGGTTTTGTTCTCGT\n"
     ]
    }
   ],
   "source": [
    "import torch\n",
    "import numpy as np\n",
    "from matplotlib import pyplot as plt\n",
    "for x,y in predictions[3:]:\n",
    "    x = torch.softmax(x.float(), dim=-1)\n",
    "    pos_i = np.array([1 if 'X' in lab else 0 for lab in y], dtype=bool)\n",
    "    neg_i = np.array(1-pos_i, dtype=bool)\n",
    "    print(x[:,pos_i,1].mean())\n",
    "    print('variance', x[:,pos_i,1].var())\n",
    "    \n",
    "    print(x[:,pos_i,5].mean())\n",
    "    print('variance', x[:,pos_i,5].var())\n",
    "    \n",
    "    print(x[:,neg_i,1].mean())\n",
    "    print(x[:,neg_i,5].mean())\n",
    "    \n",
    "    for i in range(x.size()[1])[1:3]:\n",
    "        sub_x = x[:,i,:]\n",
    "        plt.plot(sub_x[:,1])\n",
    "        plt.ylim(0,1)\n",
    "        plt.show()\n",
    "        plt.plot(sub_x[:,5])\n",
    "        plt.ylim(0,1)\n",
    "        plt.show()\n",
    "        \n",
    "        print(y[i])\n",
    "    break\n"
   ]
  }
 ],
 "metadata": {
  "kernelspec": {
   "display_name": "Python [conda env:RNAmodEnvRod]",
   "language": "python",
   "name": "conda-env-RNAmodEnvRod-py"
  },
  "language_info": {
   "codemirror_mode": {
    "name": "ipython",
    "version": 3
   },
   "file_extension": ".py",
   "mimetype": "text/x-python",
   "name": "python",
   "nbconvert_exporter": "python",
   "pygments_lexer": "ipython3",
   "version": "3.8.13"
  }
 },
 "nbformat": 4,
 "nbformat_minor": 5
}
