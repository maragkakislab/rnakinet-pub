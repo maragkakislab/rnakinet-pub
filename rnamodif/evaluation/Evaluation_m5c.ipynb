{
 "cells": [
  {
   "cell_type": "code",
   "execution_count": 2,
   "id": "1ccf6736-c089-48e0-ae59-7520f351a168",
   "metadata": {},
   "outputs": [],
   "source": [
    "from rnamodif.evaluation.evaluation import run_eval\n",
    "from rnamodif.data_utils.split_methods import get_fullvalid_split, get_default_split, get_kfold_split_func\n",
    "from rnamodif.architectures.rodan_pretrained import RodanPretrained\n"
   ]
  },
  {
   "cell_type": "code",
   "execution_count": 4,
   "id": "c9179c3f-cdad-43c7-8b9e-dc88cc1a83b5",
   "metadata": {},
   "outputs": [
    {
     "name": "stderr",
     "output_type": "stream",
     "text": [
      "Using 16bit native Automatic Mixed Precision (AMP)\n",
      "GPU available: True (cuda), used: True\n",
      "TPU available: False, using: 0 TPU cores\n",
      "IPU available: False, using: 0 IPUs\n",
      "HPU available: False, using: 0 HPUs\n",
      "LOCAL_RANK: 0 - CUDA_VISIBLE_DEVICES: [0]\n"
     ]
    },
    {
     "data": {
      "application/vnd.jupyter.widget-view+json": {
       "model_id": "967178969320441886162ffac814f6eb",
       "version_major": 2,
       "version_minor": 0
      },
      "text/plain": [
       "Validation: 0it [00:00, ?it/s]"
      ]
     },
     "metadata": {},
     "output_type": "display_data"
    },
    {
     "name": "stdout",
     "output_type": "stream",
     "text": [
      "────────────────────────────────────────────────────────────────────────────────────────────────────────────────────────\n",
      "             Validate metric                             DataLoader 0\n",
      "────────────────────────────────────────────────────────────────────────────────────────────────────────────────────────\n",
      "          UNM_novoa_1 valid acc                       0.8252426981925964\n",
      "  UNM_novoa_1 valid false_positives_perc             0.17475728690624237\n",
      "  UNM_novoa_1 valid true_negatives_perc               0.8252426981925964\n",
      "          UNM_novoa_2 valid acc                       0.4444444477558136\n",
      "  UNM_novoa_2 valid false_positives_perc              0.5555555820465088\n",
      "  UNM_novoa_2 valid true_negatives_perc               0.4444444477558136\n",
      "        UNM_novoa_short valid acc                     0.6923912167549133\n",
      "UNM_novoa_short valid false_positives_perc            0.3076087534427643\n",
      "UNM_novoa_short valid true_negatives_perc             0.6923912167549133\n",
      "           m5c_novoa valid acc                        0.6870138645172119\n",
      "   m5c_novoa valid false_negatives_perc               0.3129861354827881\n",
      "   m5c_novoa valid true_positives_perc                0.6870138645172119\n",
      "                valid acc                             0.6893888711929321\n",
      "        valid false_negatives_perc                   0.31292033195495605\n",
      "        valid false_positives_perc                   0.30674728751182556\n",
      "        valid true_negatives_perc                     0.693252682685852\n",
      "        valid true_positives_perc                     0.687079668045044\n",
      "                valid_loss                            0.7117921113967896\n",
      "────────────────────────────────────────────────────────────────────────────────────────────────────────────────────────\n"
     ]
    },
    {
     "name": "stderr",
     "output_type": "stream",
     "text": [
      "/home/jovyan/my-conda-envs/RNAmodEnvRod/lib/python3.8/site-packages/pytorch_lightning/utilities/data.py:86: UserWarning: Trying to infer the `batch_size` from an ambiguous collection. The batch size we found is 29. To avoid any miscalculations, use `self.log(..., batch_size=batch_size)`.\n",
      "  warning_cache.warn(\n"
     ]
    },
    {
     "data": {
      "text/plain": [
       "[{'valid_loss': 0.7117921113967896,\n",
       "  'valid true_positives_perc': 0.687079668045044,\n",
       "  'valid false_negatives_perc': 0.31292033195495605,\n",
       "  'valid acc': 0.6893888711929321,\n",
       "  'm5c_novoa valid true_positives_perc': 0.6870138645172119,\n",
       "  'm5c_novoa valid false_negatives_perc': 0.3129861354827881,\n",
       "  'm5c_novoa valid acc': 0.6870138645172119,\n",
       "  'valid true_negatives_perc': 0.693252682685852,\n",
       "  'valid false_positives_perc': 0.30674728751182556,\n",
       "  'UNM_novoa_1 valid true_negatives_perc': 0.8252426981925964,\n",
       "  'UNM_novoa_1 valid false_positives_perc': 0.17475728690624237,\n",
       "  'UNM_novoa_1 valid acc': 0.8252426981925964,\n",
       "  'UNM_novoa_2 valid true_negatives_perc': 0.4444444477558136,\n",
       "  'UNM_novoa_2 valid false_positives_perc': 0.5555555820465088,\n",
       "  'UNM_novoa_2 valid acc': 0.4444444477558136,\n",
       "  'UNM_novoa_short valid true_negatives_perc': 0.6923912167549133,\n",
       "  'UNM_novoa_short valid false_positives_perc': 0.3076087534427643,\n",
       "  'UNM_novoa_short valid acc': 0.6923912167549133}]"
      ]
     },
     "execution_count": 4,
     "metadata": {},
     "output_type": "execute_result"
    }
   ],
   "source": [
    "config = { \n",
    "    'pos_files':['m5c_novoa'],\n",
    "    'neg_files':['UNM_novoa_1','UNM_novoa_2', 'UNM_novoa_short'],\n",
    "    'window':4096,\n",
    "    'split': get_fullvalid_split(limit=2),\n",
    "    'arch': RodanPretrained,\n",
    "    'checkpoint': '/home/jovyan/RNAModif/rnamodif/checkpoints_pl/m5c_nih_mix/epoch=0-step=29000.ckpt',\n",
    "    'workers':1, \n",
    "}\n",
    "\n",
    "run_eval(config)"
   ]
  }
 ],
 "metadata": {
  "kernelspec": {
   "display_name": "Python [conda env:RNAmodEnvRod]",
   "language": "python",
   "name": "conda-env-RNAmodEnvRod-py"
  },
  "language_info": {
   "codemirror_mode": {
    "name": "ipython",
    "version": 3
   },
   "file_extension": ".py",
   "mimetype": "text/x-python",
   "name": "python",
   "nbconvert_exporter": "python",
   "pygments_lexer": "ipython3",
   "version": "3.8.13"
  }
 },
 "nbformat": 4,
 "nbformat_minor": 5
}
