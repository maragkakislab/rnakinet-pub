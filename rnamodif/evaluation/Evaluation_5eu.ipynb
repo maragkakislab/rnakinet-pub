{
 "cells": [
  {
   "cell_type": "code",
   "execution_count": 1,
   "id": "0cff3db1-26bb-45ef-9f0e-e72d5cbcbf9f",
   "metadata": {},
   "outputs": [],
   "source": [
    "from rnamodif.evaluation.evaluation import run_eval\n",
    "from rnamodif.data_utils.split_methods import get_fullvalid_split, get_default_split, get_kfold_split_func\n",
    "from rnamodif.architectures.rodan_pretrained import RodanPretrained\n",
    "import pickle\n",
    "\n",
    "with open(f'/home/jovyan/RNAModif/rnamodif/label_cleaning/2022_blacklist_positives','rb') as f:\n",
    "    bl = pickle.load(f)"
   ]
  },
  {
   "cell_type": "code",
   "execution_count": 3,
   "id": "f6bddc56-f665-4e72-b2f0-04211558c1bd",
   "metadata": {},
   "outputs": [
    {
     "name": "stderr",
     "output_type": "stream",
     "text": [
      "Using 16bit native Automatic Mixed Precision (AMP)\n",
      "/home/jovyan/my-conda-envs/RNAmodEnvRod/lib/python3.8/site-packages/pytorch_lightning/loops/utilities.py:93: PossibleUserWarning: `max_epochs` was not set. Setting it to 1000 epochs. To train without an epoch limit, set `max_epochs=-1`.\n",
      "  rank_zero_warn(\n",
      "GPU available: True (cuda), used: True\n",
      "TPU available: False, using: 0 TPU cores\n",
      "IPU available: False, using: 0 IPUs\n",
      "HPU available: False, using: 0 HPUs\n",
      "LOCAL_RANK: 0 - CUDA_VISIBLE_DEVICES: [0]\n",
      "/home/jovyan/my-conda-envs/RNAmodEnvRod/lib/python3.8/site-packages/pytorch_lightning/trainer/connectors/data_connector.py:219: PossibleUserWarning: The dataloader, val_dataloader 0, does not have many workers which may be a bottleneck. Consider increasing the value of the `num_workers` argument` (try 128 which is the number of cpus on this machine) in the `DataLoader` init to improve performance.\n",
      "  rank_zero_warn(\n"
     ]
    },
    {
     "data": {
      "application/vnd.jupyter.widget-view+json": {
       "model_id": "b6e06184de754899a8180aa1b45a4c5b",
       "version_major": 2,
       "version_minor": 0
      },
      "text/plain": [
       "Validation: 0it [00:00, ?it/s]"
      ]
     },
     "metadata": {},
     "output_type": "display_data"
    },
    {
     "name": "stderr",
     "output_type": "stream",
     "text": [
      "/home/jovyan/my-conda-envs/RNAmodEnvRod/lib/python3.8/site-packages/pytorch_lightning/utilities/data.py:86: UserWarning: Trying to infer the `batch_size` from an ambiguous collection. The batch size we found is 32. To avoid any miscalculations, use `self.log(..., batch_size=batch_size)`.\n",
      "  warning_cache.warn(\n",
      "/home/jovyan/my-conda-envs/RNAmodEnvRod/lib/python3.8/site-packages/torchmetrics/utilities/prints.py:36: UserWarning: 2 NaN values found in confusion matrix have been replaced with zeros.\n",
      "  warnings.warn(*args, **kwargs)\n",
      "/home/jovyan/my-conda-envs/RNAmodEnvRod/lib/python3.8/site-packages/pytorch_lightning/utilities/data.py:86: UserWarning: Trying to infer the `batch_size` from an ambiguous collection. The batch size we found is 2. To avoid any miscalculations, use `self.log(..., batch_size=batch_size)`.\n",
      "  warning_cache.warn(\n"
     ]
    },
    {
     "name": "stdout",
     "output_type": "stream",
     "text": [
      "────────────────────────────────────────────────────────────────────────────────────────────────────────────────────────\n",
      "             Validate metric                           DataLoader 0\n",
      "────────────────────────────────────────────────────────────────────────────────────────────────────────────────────────\n",
      "         5eu_nanoid_1h valid acc                    0.6435011625289917\n",
      "5eu_nanoid_1h valid false_negatives_perc            0.3564988374710083\n",
      " 5eu_nanoid_1h valid true_positives_perc            0.6435011625289917\n",
      "        5eu_nanoid_24h valid acc                    0.6096882820129395\n",
      "5eu_nanoid_24h valid false_negatives_perc           0.39031171798706055\n",
      "5eu_nanoid_24h valid true_positives_perc            0.6096882820129395\n",
      "        5eu_nanoid_mix valid acc                    0.5714650750160217\n",
      "5eu_nanoid_mix valid false_negatives_perc           0.42853492498397827\n",
      "5eu_nanoid_mix valid true_positives_perc            0.5714650750160217\n",
      "        5eu_nanoid_neg valid acc                    0.42103222012519836\n",
      "5eu_nanoid_neg valid false_positives_perc            0.578967809677124\n",
      "5eu_nanoid_neg valid true_negatives_perc            0.42103222012519836\n",
      "                valid acc                           0.5406322479248047\n",
      "       valid false_negatives_perc                   0.3943385183811188\n",
      "       valid false_positives_perc                     0.5783731341362\n",
      "        valid true_negatives_perc                   0.42162686586380005\n",
      "        valid true_positives_perc                   0.6056614518165588\n",
      "               valid_loss                           0.8525499701499939\n",
      "────────────────────────────────────────────────────────────────────────────────────────────────────────────────────────\n"
     ]
    }
   ],
   "source": [
    "config = { \n",
    "    'pos_files':['5eu_nanoid_24h','5eu_nanoid_1h','5eu_nanoid_mix'],\n",
    "    'neg_files':['5eu_nanoid_neg'],\n",
    "    'window':4096,\n",
    "    'split': get_fullvalid_split(limit=500),\n",
    "    'arch': RodanPretrained,\n",
    "    'checkpoint': '/home/jovyan/RNAModif/rnamodif/checkpoints_pl/5eu_2022_nih_clean/epoch=0-step=89000.ckpt',\n",
    "    'workers':1, \n",
    "}\n",
    "\n",
    "metrics = run_eval(config)\n"
   ]
  }
 ],
 "metadata": {
  "kernelspec": {
   "display_name": "Python [conda env:RNAmodEnvRod]",
   "language": "python",
   "name": "conda-env-RNAmodEnvRod-py"
  },
  "language_info": {
   "codemirror_mode": {
    "name": "ipython",
    "version": 3
   },
   "file_extension": ".py",
   "mimetype": "text/x-python",
   "name": "python",
   "nbconvert_exporter": "python",
   "pygments_lexer": "ipython3",
   "version": "3.8.13"
  }
 },
 "nbformat": 4,
 "nbformat_minor": 5
}
