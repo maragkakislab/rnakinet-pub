{
 "cells": [
  {
   "cell_type": "code",
   "execution_count": 3,
   "id": "ad603d64-b2be-4767-ac17-b0fd5386e098",
   "metadata": {},
   "outputs": [
    {
     "name": "stderr",
     "output_type": "stream",
     "text": [
      "Using 16bit native Automatic Mixed Precision (AMP)\n",
      "GPU available: True (cuda), used: True\n",
      "TPU available: False, using: 0 TPU cores\n",
      "IPU available: False, using: 0 IPUs\n",
      "HPU available: False, using: 0 HPUs\n"
     ]
    },
    {
     "name": "stdout",
     "output_type": "stream",
     "text": [
      "TEMPORARY\n",
      "None\n"
     ]
    }
   ],
   "source": [
    "import pytorch_lightning as pl\n",
    "from torch.utils.data import DataLoader\n",
    "from rnamodif.data_utils.dataloading import get_valid_dataset_unlimited\n",
    "from rnamodif.data_utils.workers import worker_init_fn_multisplit, worker_init_simple_fn\n",
    "from rnamodif.architectures.rodan_pretrained_modcaller import RodanPretrainedModcaller\n",
    "from rnamodif.data_utils.split_methods import kfold_split_single\n",
    "from rnamodif.data_utils.dataloading import get_test_dataset\n",
    "from rnamodif.data_utils.dataloading2 import nanopore_datamodule\n",
    "from rnamodif.data_utils.split_methods import get_kfold_splits, get_fullvalid_split, get_valid_portions\n",
    "import torch\n",
    "\n",
    "\n",
    "\n",
    "# 'm6A_0_covid':'neg', \n",
    "# 'UNM_novoa_1':'neg',\n",
    "# 'UNM_novoa_2':'neg',\n",
    "# 'UNM_novoa_short':'neg',    \n",
    "# 'm6A_5_covid':'pos',\n",
    "# 'm6A_33_covid':'pos',\n",
    "# 'm6A_10_covid':'pos',\n",
    "# 'm6a_novoa_1':'pos',\n",
    "# 'm6a_novoa_2':'pos',\n",
    "\n",
    "exp='m6A_33_covid'\n",
    "label='pos'\n",
    "num_label = 1\n",
    "architecture=RodanPretrainedModcaller\n",
    "checkpoint = '../checkpoints_pl/m6a_base_novoa_weighted/last.ckpt'\n",
    "\n",
    "valid_files=kfold_split_single(total_k=5, current_k=0)(exp, label=label)[f'valid_{label}_files']\n",
    "test_dset = get_test_dataset(valid_files, window=4096, normalization='rodan', trim_primer=False, stride=4096, read_limit=None)\n",
    "test_loader = DataLoader(test_dset, batch_size=4, num_workers=1, pin_memory=True, worker_init_fn = worker_init_simple_fn) \n",
    "\n",
    "model = architecture().load_from_checkpoint(checkpoint)\n",
    "trainer = pl.Trainer(accelerator='gpu', profiler=None, precision=16)\n",
    "    \n",
    "torch.set_grad_enabled(False)\n",
    "model.cuda()\n",
    "model.eval()\n",
    "for batch_idx, batch in enumerate(test_loader):\n",
    "    batch[0] = batch[0].cuda()\n",
    "    x, idx = batch\n",
    "    y = torch.tensor([num_label,num_label,num_label,num_label]).cuda()\n",
    "    batch = (x,y,idx)\n",
    "    pred, real, loss = model.training_step(batch, batch_idx)\n",
    "    # loss = model.predict_step(batch, batch_idx, expanded=True)\n",
    "    \n",
    "    # print(pred.min())\n",
    "    # print(pred.max())\n",
    "    # print(pred)\n",
    "    print(loss)\n",
    "    break\n",
    "    \n",
    "    \n",
    "#compute loss only from A positions - skip all others????"
   ]
  },
  {
   "cell_type": "code",
   "execution_count": 4,
   "id": "ff18f7c0-27f8-4db6-b066-3c5e1a585590",
   "metadata": {},
   "outputs": [
    {
     "data": {
      "text/plain": [
       "tensor([0, 0, 0, 0, 0, 0, 0, 0, 0, 0, 0, 0, 0, 2, 0, 1, 0, 0, 2, 2, 0, 0, 0, 2,\n",
       "        2, 0, 0, 0, 0, 2, 2, 0, 0, 0, 2, 2, 0, 0, 0, 0, 0, 0, 0, 0, 0, 4, 4, 0,\n",
       "        0, 4, 0, 4, 4, 0, 0, 0, 4, 4, 0, 1, 1, 0, 0, 1, 1, 0, 0, 3, 0, 0, 1, 0,\n",
       "        0, 0, 0, 0, 0, 0, 0, 0, 0, 0, 0, 0, 0, 0, 0, 0, 0, 0, 0, 0, 0, 0, 0, 0,\n",
       "        0, 0, 0, 2, 0, 0, 0, 4, 0, 0, 0, 0, 2, 0, 0, 1, 0, 0, 0, 0, 0, 0, 0, 0,\n",
       "        0, 0, 0, 0, 0, 0, 0, 0, 0, 0, 0, 0, 0, 0, 0, 0, 0, 0, 0, 0, 0, 0, 0, 0,\n",
       "        0, 0, 0, 0, 0, 0, 0, 0, 0, 0, 0, 0, 0, 0, 0, 0, 0, 2, 0, 0, 4, 0, 1, 0,\n",
       "        0, 0, 0, 0, 2, 0, 0, 0, 2, 2, 0, 1, 0, 0, 0, 0, 0, 0, 0, 0, 0, 0, 2, 2,\n",
       "        0, 0, 0, 0, 0, 0, 0, 0, 0, 0, 0, 0, 0, 0, 0, 0, 0, 0, 0, 0, 0, 0, 0, 0,\n",
       "        2, 2, 0, 0, 0, 2, 2, 4, 2, 2, 2, 0, 0, 0, 2, 0, 1, 1, 0, 0, 0, 0, 0, 0,\n",
       "        0, 0, 0, 0, 0, 0, 0, 0, 0, 0, 0, 0, 0, 0, 0, 0, 0, 0, 0, 0, 0, 0, 0, 0,\n",
       "        0, 0, 0, 0, 0, 0, 0, 0, 0, 0, 0, 0, 0, 0, 0, 0, 0, 0, 0, 2, 2, 0, 0, 2,\n",
       "        2, 0, 1, 1, 0, 0, 0, 0, 0, 0, 4, 4, 0, 0, 4, 0, 3, 3, 0, 0, 3, 0, 0, 0,\n",
       "        0, 0, 0, 0, 0, 0, 0, 0, 0, 0, 0, 0, 0, 0, 0, 0, 0, 0, 4, 0, 0, 0, 4, 4,\n",
       "        1, 1, 0, 0, 0, 0, 0, 2, 2, 0, 0, 2, 2, 0, 1, 1, 0, 0, 0, 0, 0, 0, 0, 0,\n",
       "        0, 0, 0, 4, 0, 0, 0, 4, 0, 1, 0, 0, 0, 0, 0, 0, 2, 2, 0, 0, 0, 2, 2, 0,\n",
       "        0, 0, 3, 3, 0, 0, 0, 0, 0, 0, 0, 0, 0, 0, 0, 0, 4, 0, 1, 0, 2, 2, 0, 0,\n",
       "        0, 2, 0, 1, 0, 0, 0, 0, 0, 0, 0, 0], device='cuda:0')"
      ]
     },
     "execution_count": 4,
     "metadata": {},
     "output_type": "execute_result"
    }
   ],
   "source": [
    "# pred, real\n",
    "pred[:,0,:].argmax(dim=-1)\n",
    "#TODO dont compute loss from Ns\n",
    "# print(pred[:,0,:])\n",
    "\n",
    "# pred"
   ]
  },
  {
   "cell_type": "code",
   "execution_count": null,
   "id": "6be3f1aa-cbc2-4c88-a7e8-388f6e76734f",
   "metadata": {},
   "outputs": [],
   "source": [
    "# \"vocab\": [ '<PAD>', 'A', 'C', 'G', 'T' ]}"
   ]
  }
 ],
 "metadata": {
  "kernelspec": {
   "display_name": "Python [conda env:RNAmodEnvRod]",
   "language": "python",
   "name": "conda-env-RNAmodEnvRod-py"
  },
  "language_info": {
   "codemirror_mode": {
    "name": "ipython",
    "version": 3
   },
   "file_extension": ".py",
   "mimetype": "text/x-python",
   "name": "python",
   "nbconvert_exporter": "python",
   "pygments_lexer": "ipython3",
   "version": "3.8.13"
  }
 },
 "nbformat": 4,
 "nbformat_minor": 5
}
