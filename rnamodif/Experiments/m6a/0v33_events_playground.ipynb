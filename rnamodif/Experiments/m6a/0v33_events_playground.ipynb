{
 "cells": [
  {
   "cell_type": "code",
   "execution_count": 1,
   "id": "d2d8ec3a-2a40-45a3-9681-fda92347d41b",
   "metadata": {},
   "outputs": [
    {
     "name": "stderr",
     "output_type": "stream",
     "text": [
      "CometLogger will be initialized in online mode\n",
      "Using 16bit native Automatic Mixed Precision (AMP)\n",
      "GPU available: True (cuda), used: True\n",
      "TPU available: False, using: 0 TPU cores\n",
      "IPU available: False, using: 0 IPUs\n",
      "HPU available: False, using: 0 HPUs\n"
     ]
    }
   ],
   "source": [
    "from rnamodif.architectures.rodan_event import RodanEvent\n",
    "from rnamodif.data_utils.dataloading_events import event_datamodule\n",
    "\n",
    "from rnamodif.data_utils.split_methods import get_kfold_splits, get_fullvalid_split, get_valid_portions\n",
    "import pytorch_lightning as pl\n",
    "from pytorch_lightning.loggers import CometLogger\n",
    "from pytorch_lightning.callbacks import ModelCheckpoint\n",
    "\n",
    "#TODO low GPU utilization - fix bottlenecks\n",
    "dm = event_datamodule(\n",
    "    readers_split_config={\n",
    "        'pos':[\n",
    "            {'reader_path':'/home/jovyan/taiyaki_test/mapped_reads_2/m6A_33', 'train_portion':0.8},\n",
    "            {'reader_path':'/home/jovyan/taiyaki_test/mapped_reads_2/RNAAB090763_m6A', 'train_portion':0.0},\n",
    "            {'reader_path':'/home/jovyan/taiyaki_test/mapped_reads_2/m6A_10', 'train_portion':0.0},\n",
    "            {'reader_path':'/home/jovyan/taiyaki_test/mapped_reads_2/m6A_5', 'train_portion':0.0},\n",
    "        ],\n",
    "        'neg':[\n",
    "            {'reader_path':'/home/jovyan/taiyaki_test/mapped_reads_2/m6A_0', 'train_portion':0.8},\n",
    "            {'reader_path':'/home/jovyan/taiyaki_test/mapped_reads_2/RNAAB089716_m6A_UNM', 'train_portion':0.0},\n",
    "        ],\n",
    "    },\n",
    "    batch_size=64, \n",
    "    workers=2,\n",
    "    window=1024, #4096\n",
    "    valid_limit = 5000,\n",
    ")\n",
    "\n",
    "\n",
    "model = RodanEvent(lr=1e-3, warmup_steps=3000, vocab_map=dm.vocab_map)\n",
    "\n",
    "experiment_name = 'm6a_0v33_event_modp_1'\n",
    "checkpoint_callback = ModelCheckpoint(\n",
    "    dirpath=f\"/home/jovyan/RNAModif/rnamodif/checkpoints_pl/{experiment_name}\", \n",
    "    save_top_k=2, \n",
    "    monitor=\"valid_loss\", \n",
    "    save_last=True, \n",
    "    save_weights_only=False\n",
    ")\n",
    "\n",
    "logger = CometLogger(api_key=\"TEVQbgxxvilM1WdTyqZLJ57ac\", project_name='RNAModif', experiment_name=experiment_name) \n",
    "trainer= pl.Trainer(\n",
    "    max_steps = 1000000, logger=logger, accelerator='gpu',\n",
    "    auto_lr_find=False, val_check_interval=500,  \n",
    "    log_every_n_steps=500, benchmark=True, precision=16,\n",
    "    callbacks=[checkpoint_callback], #commented out = no saving\n",
    "    # profiler='simple')\n",
    "    # resume_from_checkpoint=f'/home/jovyan/RNAModif/rnamodif/checkpoints_pl/{experiment_name}/last.ckpt'\n",
    ")\n",
    "\n",
    "# trainer.fit(model, dm)"
   ]
  },
  {
   "cell_type": "code",
   "execution_count": 2,
   "id": "ddd696fc-26f7-4111-acae-f68f62c3bf40",
   "metadata": {},
   "outputs": [
    {
     "name": "stdout",
     "output_type": "stream",
     "text": [
      "vocab ok\n"
     ]
    },
    {
     "name": "stderr",
     "output_type": "stream",
     "text": [
      "/home/jovyan/my-conda-envs/RNAmodEnvRod/lib/python3.8/site-packages/numpy/core/fromnumeric.py:57: FutureWarning: The input object of type 'Tensor' is an array-like implementing one of the corresponding protocols (`__array__`, `__array_interface__` or `__array_struct__`); but not a sequence (or 0-D). In the future, this object will be coerced as if it was first converted using `np.array(obj)`. To retain the old behaviour, you have to either modify the type 'Tensor', or assign to an empty array created with `np.empty(correct_shape, dtype=object)`.\n",
      "  return bound(*args, **kwds)\n",
      "/home/jovyan/my-conda-envs/RNAmodEnvRod/lib/python3.8/site-packages/numpy/core/fromnumeric.py:57: VisibleDeprecationWarning: Creating an ndarray from ragged nested sequences (which is a list-or-tuple of lists-or-tuples-or ndarrays with different lengths or shapes) is deprecated. If you meant to do this, you must specify 'dtype=object' when creating the ndarray.\n",
      "  return bound(*args, **kwds)\n",
      "/home/jovyan/my-conda-envs/RNAmodEnvRod/lib/python3.8/site-packages/numpy/core/fromnumeric.py:57: FutureWarning: The input object of type 'Tensor' is an array-like implementing one of the corresponding protocols (`__array__`, `__array_interface__` or `__array_struct__`); but not a sequence (or 0-D). In the future, this object will be coerced as if it was first converted using `np.array(obj)`. To retain the old behaviour, you have to either modify the type 'Tensor', or assign to an empty array created with `np.empty(correct_shape, dtype=object)`.\n",
      "  return bound(*args, **kwds)\n",
      "/home/jovyan/my-conda-envs/RNAmodEnvRod/lib/python3.8/site-packages/numpy/core/fromnumeric.py:57: VisibleDeprecationWarning: Creating an ndarray from ragged nested sequences (which is a list-or-tuple of lists-or-tuples-or ndarrays with different lengths or shapes) is deprecated. If you meant to do this, you must specify 'dtype=object' when creating the ndarray.\n",
      "  return bound(*args, **kwds)\n"
     ]
    },
    {
     "name": "stdout",
     "output_type": "stream",
     "text": [
      "TGXCGXXGXTCGCGCTXXT\n"
     ]
    },
    {
     "data": {
      "image/png": "[encoded data removed]",
      "text/plain": [
       "<Figure size 432x288 with 1 Axes>"
      ]
     },
     "metadata": {
      "needs_background": "light"
     },
     "output_type": "display_data"
    }
   ],
   "source": [
    "from matplotlib import pyplot as plt\n",
    "\n",
    "dm.setup()\n",
    "batch = next(iter(dm.train_dataloader()))\n",
    "X = batch[0]\n",
    "y = batch[1]\n",
    "plt.plot(X[0].flatten())\n",
    "print(y[0])"
   ]
  },
  {
   "cell_type": "code",
   "execution_count": 51,
   "id": "5edfc066-7f51-4f13-b932-8edd98222d93",
   "metadata": {},
   "outputs": [
    {
     "name": "stdout",
     "output_type": "stream",
     "text": [
      "torch.Size([64])\n",
      "CPU times: user 65.3 ms, sys: 20.7 ms, total: 86 ms\n",
      "Wall time: 5.91 ms\n"
     ]
    }
   ],
   "source": [
    "%%time\n",
    "import torch\n",
    "vocab_map = {'A':0,'C':1,'G':2,'T':3}\n",
    "def setup_vocab_map_for_ctc(vocab_map):\n",
    "    new_vocab = {}\n",
    "    new_vocab['N'] = 0 #unused\n",
    "    for k,v in vocab_map.items():\n",
    "        new_vocab[k] = vocab_map[k]+1\n",
    "    new_vocab['X'] = 5 #5 because i torch.cat in forward, mod_pred is last place\n",
    "    return new_vocab\n",
    "\n",
    "def greedy_ctc_decode(y_pred):\n",
    "    # Apply softmax and find the argmax for each time step\n",
    "    decoded = y_pred.argmax(2)\n",
    "    \n",
    "    # Collapse duplicate predictions and remove the blank label\n",
    "    decoded_seqs = []\n",
    "    for seq in decoded:\n",
    "        decoded_seq = [seq[0].item()]\n",
    "        for label in seq[1:]:\n",
    "            if label != decoded_seq[-1] and label != 0:\n",
    "                decoded_seq.append(label.item())\n",
    "        decoded_seqs.append(decoded_seq)\n",
    "    \n",
    "    return decoded_seqs\n",
    "vocab_map = setup_vocab_map_for_ctc(vocab_map)\n",
    "\n",
    "def compute_loss(output, y):\n",
    "    output_size = output.size()\n",
    "    signal_len = output_size[0]\n",
    "    batch_size = output_size[1]\n",
    "    signal_lengths = torch.tensor(signal_len).repeat(batch_size)\n",
    "    label_lengths = torch.tensor([len(label) for label in y])\n",
    "    numericalized_labels = torch.tensor([vocab_map[char] for label in y for char in label])\n",
    "    \n",
    "    loss = torch.nn.functional.ctc_loss(\n",
    "        output, \n",
    "        numericalized_labels,\n",
    "        signal_lengths, \n",
    "        label_lengths, \n",
    "        reduction='mean', \n",
    "        blank=0 #label for the N character\n",
    "    )\n",
    "    print(loss)\n",
    "    return loss\n",
    "        \n",
    "def compute_loss_pusher(output, y):\n",
    "    output_size = output.size()\n",
    "    signal_len = output_size[0]\n",
    "    batch_size = output_size[1]\n",
    "    signal_lengths = torch.tensor(signal_len).repeat(batch_size)\n",
    "    label_lengths = torch.tensor([len(label) for label in y])\n",
    "    numericalized_labels = torch.tensor([vocab_map[char] if char != 'X' else vocab_map['A'] for label in y for char in label])\n",
    "    # numericalized_labels = torch.tensor([vocab_map[char] for label in y for char in label])\n",
    "    pos_indicies = torch.tensor([1 if 'X' in l else 0 for i,l in enumerate(y)]).float()\n",
    "    vals, _ = torch.max(output[:,:,-1], dim=0)\n",
    "    print(vals.size())\n",
    "    loss = torch.nn.functional.ctc_loss(\n",
    "        output, \n",
    "        numericalized_labels,\n",
    "        signal_lengths, \n",
    "        label_lengths, \n",
    "        reduction='mean', \n",
    "        blank=0 #label for the N character\n",
    "    )\n",
    "    ce_loss = torch.nn.functional.binary_cross_entropy(vals, pos_indicies)\n",
    "    \n",
    "    return loss + ce_loss     \n",
    "\n",
    "\n",
    "# res = compute_loss(torch.rand(100, 64, 5), [s[:50] for s in batch[1]])\n",
    "\n",
    "res = compute_loss_pusher(torch.rand(100, 64, 5), batch[1])\n"
   ]
  },
  {
   "cell_type": "code",
   "execution_count": null,
   "id": "38a86304-a186-4118-813d-530d4764cb1b",
   "metadata": {},
   "outputs": [],
   "source": [
    "seq = batch[1][0]\n",
    "print(seq)\n",
    "seq.find('X')"
   ]
  },
  {
   "cell_type": "code",
   "execution_count": null,
   "id": "22e1590b-dd0b-49d6-8682-0ba88e9236d9",
   "metadata": {},
   "outputs": [],
   "source": [
    "import itertools\n",
    "\n",
    "def generate_variations(seq):\n",
    "    num_as = seq.count('A')\n",
    "    num_replacements = int(0.25 * num_as)\n",
    "    variations = set()\n",
    "    variations = []\n",
    "    \n",
    "    idxs = [pos for pos, char in enumerate(seq) if char == 'A']\n",
    "    for combo in itertools.combinations(range(num_as), num_replacements):\n",
    "        new_seq = list(seq)\n",
    "        for order in combo:\n",
    "            new_seq[idxs[order]] = 'X'\n",
    "        variations.append(''.join(new_seq))\n",
    "\n",
    "    return variations\n",
    "\n",
    "generate_variations('ACTGAATGA')\n"
   ]
  },
  {
   "cell_type": "code",
   "execution_count": null,
   "id": "a29c38f4-3cfc-4a71-954f-38d3069e20a6",
   "metadata": {},
   "outputs": [],
   "source": [
    "'XXTTXXXT'.replace('X','A')"
   ]
  }
 ],
 "metadata": {
  "kernelspec": {
   "display_name": "Python [conda env:RNAmodEnvRod]",
   "language": "python",
   "name": "conda-env-RNAmodEnvRod-py"
  },
  "language_info": {
   "codemirror_mode": {
    "name": "ipython",
    "version": 3
   },
   "file_extension": ".py",
   "mimetype": "text/x-python",
   "name": "python",
   "nbconvert_exporter": "python",
   "pygments_lexer": "ipython3",
   "version": "3.8.13"
  }
 },
 "nbformat": 4,
 "nbformat_minor": 5
}
